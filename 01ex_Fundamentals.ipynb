{
 "cells": [
  {
   "cell_type": "markdown",
   "metadata": {
    "id": "KTwwIrJvhcJc"
   },
   "source": [
    "0\\. Implement a function (whatever you want) and save it to a file (e.g. `function.py`). Import that file and use that function in this notebook.\n"
   ]
  },
  {
   "cell_type": "code",
   "execution_count": 1,
   "metadata": {},
   "outputs": [
    {
     "name": "stdout",
     "output_type": "stream",
     "text": [
      "\n",
      "Please wait a moment while I gather a list of all available modules...\n",
      "\n"
     ]
    },
    {
     "name": "stderr",
     "output_type": "stream",
     "text": [
      "WARNING: AstropyDeprecationWarning: The private astropy._erfa module has been made into its own package, pyerfa, which is a dependency of astropy and can be imported directly using \"import erfa\" [astropy._erfa]\n",
      "C:\\Users\\nadil\\anaconda3\\lib\\site-packages\\nltk\\twitter\\__init__.py:20: UserWarning: The twython library has not been installed. Some functionality from the twitter package will not be available.\n",
      "  warnings.warn(\n",
      "C:\\Users\\nadil\\anaconda3\\lib\\site-packages\\_distutils_hack\\__init__.py:30: UserWarning: Setuptools is replacing distutils.\n",
      "  warnings.warn(\"Setuptools is replacing distutils.\")\n"
     ]
    },
    {
     "name": "stdout",
     "output_type": "stream",
     "text": [
      "Update LANGUAGE_CODES (inside config/base.py) if a new translation has been added to Spyder\n"
     ]
    },
    {
     "name": "stderr",
     "output_type": "stream",
     "text": [
      "No QCoreApplication instance found. Application patches not applied. You have to call load_stylesheet function after instantiation of QApplication to take effect. \n",
      "C:\\Users\\nadil\\anaconda3\\lib\\pkgutil.py:108: VisibleDeprecationWarning:\n",
      "\n",
      "zmq.eventloop.minitornado is deprecated in pyzmq 14.0 and will be removed.\n",
      "    Install tornado itself to use zmq with the tornado IOLoop.\n",
      "    \n",
      "\n"
     ]
    },
    {
     "name": "stdout",
     "output_type": "stream",
     "text": [
      "01ex_fundamentals   colorcet            mmap                sndhdr\n",
      "Cython              colorsys            mmapfile            sniffio\n",
      "IPython             commctrl            mmsystem            snowballstemmer\n",
      "OpenSSL             compileall          mock                socket\n",
      "PIL                 comtypes            modulefinder        socketserver\n",
      "PyQt5               concurrent          mpmath              socks\n",
      "TBB                 conda               msgpack             sockshandler\n",
      "__future__          conda_build         msilib              sortedcollections\n",
      "_abc                conda_content_trust msvcrt              sortedcontainers\n",
      "_aix_support        conda_env           multidict           soupsieve\n",
      "_argon2_cffi_bindings conda_pack          multipledispatch    sphinx\n",
      "_ast                conda_package_handling multiprocessing     spyder\n",
      "_asyncio            conda_token         munkres             spyder_kernels\n",
      "_bisect             conda_verify        mypy_extensions     sqlalchemy\n",
      "_black_version      configparser        nacl                sqlite3\n",
      "_blake2             constantly          navigator_updater   sre_compile\n",
      "_bootlocale         contextlib          nbclassic           sre_constants\n",
      "_bootsubprocess     contextvars         nbclient            sre_parse\n",
      "_bz2                cookiecutter        nbconvert           ssl\n",
      "_cffi_backend       copy                nbformat            sspi\n",
      "_codecs             copyreg             nest_asyncio        sspicon\n",
      "_codecs_cn          crypt               netbios             stack_data\n",
      "_codecs_hk          cryptography        netrc               stat\n",
      "_codecs_iso2022     cssselect           networkx            statistics\n",
      "_codecs_jp          csv                 nltk                statsmodels\n",
      "_codecs_kr          ctypes              nntplib             string\n",
      "_codecs_tw          curl                nose                stringprep\n",
      "_collections        curses              notebook            struct\n",
      "_collections_abc    cwp                 nt                  subprocess\n",
      "_compat_pickle      cycler              ntpath              sunau\n",
      "_compression        cython              ntsecuritycon       symbol\n",
      "_contextvars        cytoolz             nturl2path          sympy\n",
      "_csv                daal4py             numba               symtable\n",
      "_ctypes             dask                numbergen           sys\n",
      "_ctypes_test        dataclasses         numbers             sysconfig\n",
      "_datetime           datashader          numexpr             tables\n",
      "_decimal            datashape           numpy               tabnanny\n",
      "_distutils_hack     datetime            numpydoc            tabulate\n",
      "_elementtree        dateutil            odbc                tarfile\n",
      "_functools          dbi                 olefile             tbb\n",
      "_hashlib            dbm                 onedal              tblib\n",
      "_heapq              dde                 opcode              telnetlib\n",
      "_imp                debugpy             openpyxl            tempfile\n",
      "_io                 decimal             operator            tenacity\n",
      "_json               decorator           optparse            terminado\n",
      "_locale             defusedxml          os                  test\n",
      "_lsprof             diff_match_patch    packaging           test_pycosat\n",
      "_lzma               difflib             pandas              testpath\n",
      "_markupbase         dis                 pandocfilters       text_unidecode\n",
      "_md5                distributed         panel               textdistance\n",
      "_msi                distutils           param               textwrap\n",
      "_multibytecodec     doctest             paramiko            this\n",
      "_multiprocessing    docutils            parsel              threading\n",
      "_nsis               email               parser              threadpoolctl\n",
      "_opcode             encodings           parso               three_merge\n",
      "_operator           ensurepip           partd               tifffile\n",
      "_osx_support        entrypoints         past                time\n",
      "_overlapped         enum                pathlib             timeit\n",
      "_peg_parser         erfa                pathspec            timer\n",
      "_pickle             errno               patsy               tinycss\n",
      "_plotly_future_     et_xmlfile          pdb                 tkinter\n",
      "_plotly_utils       executing           pep8                tldextract\n",
      "_py_abc             fastjsonschema      perfmon             tlz\n",
      "_pydecimal          faulthandler        pexpect             token\n",
      "_pyio               filecmp             pickle              tokenize\n",
      "_pyrsistent_version fileinput           pickleshare         toml\n",
      "_pytest             filelock            pickletools         tomli\n",
      "_queue              flake8              pip                 toolz\n",
      "_random             flask               pipes               tornado\n",
      "_sha1               fnmatch             pkg_resources       tqdm\n",
      "_sha256             fontTools           pkginfo             trace\n",
      "_sha3               formatter           pkgutil             traceback\n",
      "_sha512             fractions           platform            tracemalloc\n",
      "_signal             frozenlist          plistlib            traitlets\n",
      "_sitebuiltins       fsspec              plotly              tty\n",
      "_socket             ftplib              pluggy              turtle\n",
      "_sqlite3            functools           poplib              turtledemo\n",
      "_sre                future              posixpath           twisted\n",
      "_ssl                gc                  poyo                typed_ast\n",
      "_stat               genericpath         pprint              types\n",
      "_statistics         gensim              profile             typing\n",
      "_string             getopt              prometheus_client   typing_extensions\n",
      "_strptime           getpass             prompt_toolkit      ujson\n",
      "_struct             gettext             protego             unicodedata\n",
      "_symtable           glob                pstats              unidecode\n",
      "_system_path        glob2               psutil              unittest\n",
      "_testbuffer         google_crc32c       pty                 urllib\n",
      "_testcapi           graphlib            ptyprocess          urllib3\n",
      "_testconsole        greenlet            pure_eval           uu\n",
      "_testimportmultiple grpc                pvectorc            uuid\n",
      "_testinternalcapi   gzip                py                  venv\n",
      "_testmultiphase     h5py                py_compile          w3lib\n",
      "_thread             hamcrest            pyasn1              warnings\n",
      "_threading_local    hashlib             pyasn1_modules      watchdog\n",
      "_tkinter            heapdict            pyclbr              wave\n",
      "_tracemalloc        heapq               pycodestyle         wcwidth\n",
      "_uuid               hmac                pycosat             weakref\n",
      "_warnings           holoviews           pycparser           webbrowser\n",
      "_weakref            html                pyct                webencodings\n",
      "_weakrefset         http                pycurl              websocket\n",
      "_win32sysloader     hvplot              pydispatch          werkzeug\n",
      "_winapi             hyperlink           pydoc               wheel\n",
      "_winxptheme         idlelib             pydoc_data          widgetsnbextension\n",
      "_xxsubinterpreters  idna                pydocstyle          win2kras\n",
      "_yaml               imagecodecs         pyexpat             win32api\n",
      "_zoneinfo           imageio             pyflakes            win32clipboard\n",
      "abc                 imagesize           pygments            win32com\n",
      "adodbapi            imaplib             pylab               win32con\n",
      "afxres              imghdr              pylint              win32console\n",
      "aifc                imp                 pyls_spyder         win32cred\n",
      "aiohttp             importlib           pylsp               win32crypt\n",
      "aiosignal           importlib_metadata  pylsp_black         win32cryptcon\n",
      "alabaster           incremental         pylsp_jsonrpc       win32ctypes\n",
      "anaconda_navigator  inflection          pyodbc              win32event\n",
      "anaconda_project    iniconfig           pyparsing           win32evtlog\n",
      "antigravity         inspect             pyreadline          win32evtlogutil\n",
      "anyio               intake              pyrsistent          win32file\n",
      "appdirs             intervaltree        pytest              win32gui\n",
      "argon2              io                  pythoncom           win32gui_struct\n",
      "argparse            ipaddress           pytz                win32help\n",
      "array               ipykernel           pyviz_comms         win32inet\n",
      "arrow               ipykernel_launcher  pywin               win32inetcon\n",
      "ast                 ipython_genutils    pywin32_bootstrap   win32job\n",
      "astroid             ipywidgets          pywin32_testutil    win32lz\n",
      "astropy             isapi               pywintypes          win32net\n",
      "asttokens           isort               pywt                win32netcon\n",
      "async_timeout       isympy              pyximport           win32pdh\n",
      "asynchat            itemadapter         qdarkstyle          win32pdhquery\n",
      "asyncio             itemloaders         qstylizer           win32pdhutil\n",
      "asyncore            itertools           qtawesome           win32pipe\n",
      "atexit              itsdangerous        qtconsole           win32print\n",
      "atomicwrites        jdcal               qtpy                win32process\n",
      "attr                jedi                queue               win32profile\n",
      "attrs               jinja2              queuelib            win32ras\n",
      "audioop             jinja2_time         quopri              win32rcparser\n",
      "automat             jmespath            random              win32security\n",
      "autopep8            joblib              rasutil             win32service\n",
      "babel               json                re                  win32serviceutil\n",
      "backcall            json5               readline            win32timezone\n",
      "backports           jsonschema          regcheck            win32trace\n",
      "base64              jupyter             regex               win32traceutil\n",
      "bcrypt              jupyter_client      regutil             win32transaction\n",
      "bdb                 jupyter_console     repo_cli            win32ts\n",
      "binaryornot         jupyter_core        reprlib             win32ui\n",
      "binascii            jupyter_server      requests            win32uiole\n",
      "binhex              jupyterlab          requests_file       win32verstamp\n",
      "binstar_client      jupyterlab_plotly   rlcompleter         win32wnet\n",
      "bisect              jupyterlab_pygments rope                win_inet_pton\n",
      "bitarray            jupyterlab_server   rsa                 win_unicode_console\n",
      "bkcharts            jupyterlab_widgets  rtree               wincertstore\n",
      "black               jwt                 ruamel_yaml         winerror\n",
      "blackd              keyring             run                 winioctlcon\n",
      "bleach              keyword             runpy               winnt\n",
      "blib2to3            kiwisolver          s3transfer          winperf\n",
      "bokeh               lazy_object_proxy   sched               winpty\n",
      "boto3               lib2to3             scipy               winreg\n",
      "botocore            libarchive          scrapy              winsound\n",
      "bottleneck          libfuturize         seaborn             winxpgui\n",
      "brotli              libpasteurize       secrets             winxptheme\n",
      "bs4                 lief                select              wrapt\n",
      "builtins            linecache           selectors           wsgiref\n",
      "bz2                 llvmlite            send2trash          xarray\n",
      "cProfile            locale              service_identity    xdrlib\n",
      "cachetools          locket              servicemanager      xlrd\n",
      "calendar            logging             setuptools          xlsxwriter\n",
      "certifi             lxml                shelve              xlwings\n",
      "cffi                lzma                shlex               xml\n",
      "cgi                 mailbox             shutil              xmlrpc\n",
      "cgitb               mailcap             signal              xxsubtype\n",
      "chardet             markdown            sip                 yaml\n",
      "charset_normalizer  markupsafe          sipconfig           yapf\n",
      "chunk               marshal             sipdistutils        yapftests\n",
      "click               math                site                yarl\n",
      "cloudpickle         matplotlib          six                 zict\n",
      "clyent              matplotlib_inline   skimage             zipapp\n",
      "cmath               mccabe              sklearn             zipfile\n",
      "cmd                 menuinst            sklearnex           zipimport\n",
      "code                mimetypes           slugify             zipp\n",
      "codecs              mistune             smart_open          zlib\n",
      "codeop              mkl                 smtpd               zmq\n",
      "collections         mkl_fft             smtplib             zoneinfo\n",
      "colorama            mkl_random          snappy              zope\n",
      "\n",
      "Enter any module name to get more help.  Or, type \"modules spam\" to search\n",
      "for modules whose name or summary contain the string \"spam\".\n",
      "\n",
      "None\n"
     ]
    }
   ],
   "source": [
    "print (help('modules') )"
   ]
  },
  {
   "cell_type": "markdown",
   "metadata": {
    "id": "nkFWzYxXhcJd"
   },
   "source": [
    "1\\. Write the following as a list comprehension"
   ]
  },
  {
   "cell_type": "code",
   "execution_count": 25,
   "metadata": {
    "colab": {
     "base_uri": "https://localhost:8080/"
    },
    "id": "FdKWhIW6hcJd",
    "outputId": "b14bd026-5507-4a44-b3c7-18518e002727"
   },
   "outputs": [
    {
     "name": "stdout",
     "output_type": "stream",
     "text": [
      "[(0, 0), (0, 1), (0, 2), (0, 3), (1, 0), (1, 1), (1, 2), (1, 3), (2, 0), (2, 1), (2, 2), (2, 3)]\n",
      "[(0, 0), (0, 1), (0, 2), (0, 3), (1, 0), (1, 1), (1, 2), (1, 3), (2, 0), (2, 1), (2, 2), (2, 3)]\n",
      "[0, 4, 16]\n",
      "[0, 4, 16]\n"
     ]
    }
   ],
   "source": [
    "# 1\n",
    "ans = []\n",
    "for i in range(3):\n",
    "    for j in range(4):\n",
    "        ans.append((i, j))\n",
    "print (ans)\n",
    "\n",
    "are = [(i,j) for i in range(3) for j in range(4)]\n",
    "print(are)\n",
    "\n",
    "# 2\n",
    "ans = map(lambda x: x*x, filter(lambda x: x%2 == 0, range(5)))\n",
    "print (list(ans))\n",
    "         \n",
    "are2 = [r*r for r in range(5) if r%2 ==0]\n",
    "print(are2)\n",
    "\n"
   ]
  },
  {
   "cell_type": "markdown",
   "metadata": {
    "id": "-DHeDvyDhcJe"
   },
   "source": [
    "2\\. Convert the following function into a pure function with no global variables or side effects"
   ]
  },
  {
   "cell_type": "code",
   "execution_count": 50,
   "metadata": {
    "id": "3yF_lDpRhcJe"
   },
   "outputs": [
    {
     "name": "stdout",
     "output_type": "stream",
     "text": [
      "None\n",
      "[]\n",
      "[1, 2, 3, 0, 1, 2, 3, 4]\n"
     ]
    }
   ],
   "source": [
    "# x = 5\n",
    "# def f(alist):\n",
    "#     for i in range(x):\n",
    "#          alist.append(i)\n",
    "#     return alist\n",
    "\n",
    "# alist = [1,2,3]\n",
    "# ans = f(alist)\n",
    "# print (ans)\n",
    "# print (alist) # alist has been changed!\n",
    "\n",
    "\n",
    "x = 5\n",
    "\n",
    "def f(alist = None):\n",
    "    if alist is None: \n",
    "        alist = []\n",
    "    for i in range(x):\n",
    "        alist.append(i)\n",
    "    return al\n",
    "\n",
    "alist = [1,2,3]\n",
    "ans = f(alist)\n",
    "print (ans)\n",
    "print (al)\n",
    "print (alist) # alist has been changed!\n",
    "\n",
    "\n",
    "# def f(xt = None):\n",
    "#     if xt is None:\n",
    "#         xt = []\n",
    "#     xt.append(1)\n",
    "#     return xt\n",
    "\n",
    "# print (f())\n",
    "# print (f())\n",
    "# print (f(xt = [9,9,9]))\n",
    "# print (f())\n",
    "# print (f())"
   ]
  },
  {
   "cell_type": "markdown",
   "metadata": {
    "id": "Aj8kMugahcJe"
   },
   "source": [
    "3\\. Write a `decorator` hello that makes every wrapped function print “Hello!”, i.e. something like:\n",
    "\n",
    "```python\n",
    "@hello\n",
    "def square(x):\n",
    "    return x*x\n",
    "```\n",
    "\n"
   ]
  },
  {
   "cell_type": "code",
   "execution_count": 60,
   "metadata": {},
   "outputs": [
    {
     "name": "stdout",
     "output_type": "stream",
     "text": [
      "Something is happening before the function is called.\n",
      "Whee!\n",
      "Something is happening after the function is called.\n"
     ]
    }
   ],
   "source": [
    "def my_decorator(func):\n",
    "    def wrapper():\n",
    "        print(\"Something is happening before the function is called.\")\n",
    "        func()\n",
    "        print(\"Something is happening after the function is called.\")\n",
    "    return wrapper\n",
    "\n",
    "def say_whee():\n",
    "    print(\"Whee!\")\n",
    "\n",
    "say_whee = my_decorator(say_whee)\n",
    "say_whee()"
   ]
  },
  {
   "cell_type": "markdown",
   "metadata": {
    "id": "qNGYF3-ShcJe"
   },
   "source": [
    "4\\. Write the factorial function so that it a) does and b) does not use recursion."
   ]
  },
  {
   "cell_type": "code",
   "execution_count": 59,
   "metadata": {},
   "outputs": [
    {
     "name": "stdout",
     "output_type": "stream",
     "text": [
      "[1, 2, 6, 24, 120, 720, 5040, 40320, 362880]\n"
     ]
    }
   ],
   "source": [
    "def fac(n):\n",
    "    if n==0:\n",
    "        return 1\n",
    "    else:\n",
    "        return fac(n-1) * n\n",
    "    \n",
    "print ([fac(n) for n in range(1,10)])"
   ]
  },
  {
   "cell_type": "markdown",
   "metadata": {
    "id": "baJ-fKHdhcJe"
   },
   "source": [
    "5\\. Use HOFs (zip in particular) to compute the weight of a circle, a disk and a sphere, assuming different radii and different densities:\n",
    "\n",
    "```python\n",
    "densities = {\"Al\":[0.5,1,2],\"Fe\":[3,4,5],\"Pb\": [15,20,30]}\n",
    "radii = [1,2,3]\n",
    "```\n",
    "\n",
    "where the entries of the dictionary's values are the linear, superficial and volumetric densities of the materials respectively.\n",
    "\n",
    "In particular define a list of three lambda functions using a comprehension that computes the circumference, the area and the volume for a given radius.\n"
   ]
  },
  {
   "cell_type": "code",
   "execution_count": 71,
   "metadata": {},
   "outputs": [
    {
     "ename": "SyntaxError",
     "evalue": "invalid syntax (2132351218.py, line 13)",
     "output_type": "error",
     "traceback": [
      "\u001b[1;36m  Input \u001b[1;32mIn [71]\u001b[1;36m\u001b[0m\n\u001b[1;33m    for d,r in zip (densities,radii)\u001b[0m\n\u001b[1;37m                                    ^\u001b[0m\n\u001b[1;31mSyntaxError\u001b[0m\u001b[1;31m:\u001b[0m invalid syntax\n"
     ]
    }
   ],
   "source": [
    "xs = [1, 2, 3, 4]\n",
    "ys = [10, 20, 30, 40]\n",
    "zs = ['a', 'b', 'c', 'd', 'e']\n",
    "\n",
    "for x, y in zip(xs, ys):\n",
    "    arr = x*y\n",
    "    print (x, y)\n",
    "    print(arr)   \n",
    "    \n",
    "densities = {\"Al\":[0.5,1,2],\"Fe\":[3,4,5],\"Pb\": [15,20,30]}\n",
    "radii = [1,2,3]\n",
    "\n",
    "for d,r in zip (densities [\"Al\"],radii)\n",
    "    w = d*3.14*r*r\n",
    "    print (d,r)\n",
    "    print(w)\n",
    "\n",
    "    \n",
    "(lambda x: x**2)\n"
   ]
  },
  {
   "cell_type": "markdown",
   "metadata": {
    "id": "GCHzz4l-hcJf"
   },
   "source": [
    "6\\. Edit the class defintion to add an instance attribute of is_hungry = True to the Dog class. Then add a method called eat() which changes the value of is_hungry to False when called. Figure out the best way to feed each dog and then output “My dogs are hungry.” if all are hungry or “My dogs are not hungry.” if all are not hungry. The final output should look like this:\n",
    "\n",
    "`I have 3 dogs. \n",
    "Tom is 6. \n",
    "Fletcher is 7. \n",
    "Larry is 9. \n",
    "And they're all mammals, of course. \n",
    "My dogs are not hungry.\n",
    "`\n",
    "\n",
    "```python\n",
    "# Parent class\n",
    "class Dog:\n",
    "\n",
    "    # Class attribute\n",
    "    species = 'mammal'\n",
    "\n",
    "    # Initializer / Instance attributes\n",
    "    def __init__(self, name, age):\n",
    "        self.name = name\n",
    "        self.age = age\n",
    "\n",
    "    # instance method\n",
    "    def description(self):\n",
    "        return \"{} is {} years old\".format(self.name, self.age)\n",
    "\n",
    "    # instance method\n",
    "    def speak(self, sound):\n",
    "        return \"{} says {}\".format(self.name, sound)\n",
    "\n",
    "# Child class (inherits from Dog class)\n",
    "class RussellTerrier(Dog):\n",
    "    def run(self, speed):\n",
    "        return \"{} runs {}\".format(self.name, speed)\n",
    "\n",
    "# Child class (inherits from Dog class)\n",
    "class Bulldog(Dog):\n",
    "    def run(self, speed):\n",
    "        return \"{} runs {}\".format(self.name, speed)\n",
    "```"
   ]
  },
  {
   "cell_type": "code",
   "execution_count": 75,
   "metadata": {
    "id": "KtsIWKDuhcJf"
   },
   "outputs": [],
   "source": [
    "# Parent class\n",
    "class Dog:\n",
    "\n",
    "    # Class attribute\n",
    "    species = 'mammal'\n",
    "\n",
    "    # Initializer / Instance attributes\n",
    "    def __init__(self, name, age):\n",
    "        self.name = name\n",
    "        self.age = age\n",
    "        self.is_hungry = true\n",
    "\n",
    "    # instance method\n",
    "    def description(self):\n",
    "        return \"{} is {} years old\".format(self.name, self.age)\n",
    "\n",
    "    # instance method\n",
    "    def speak(self, sound):\n",
    "        return \"{} says {}\".format(self.name, sound)\n",
    "    \n",
    "    def eat(self):\n",
    "        self.is_hungry = false\n",
    "\n",
    "# Child class (inherits from Dog class)\n",
    "class RussellTerrier(Dog):\n",
    "    def run(self, speed):\n",
    "        return \"{} runs {}\".format(self.name, speed)\n",
    "\n",
    "# Child class (inherits from Dog class)\n",
    "class Bulldog(Dog):\n",
    "    def run(self, speed):\n",
    "        return \"{} runs {}\".format(self.name, speed)\n"
   ]
  },
  {
   "cell_type": "code",
   "execution_count": 76,
   "metadata": {},
   "outputs": [
    {
     "name": "stdout",
     "output_type": "stream",
     "text": [
      "7.00 + 1.00i\n",
      "-3.00 + 5.00i\n",
      "16.00 + 11.00i\n",
      "0.14 + 0.66i\n"
     ]
    },
    {
     "ename": "AttributeError",
     "evalue": "'Complex' object has no attribute 'mod'",
     "output_type": "error",
     "traceback": [
      "\u001b[1;31m---------------------------------------------------------------------------\u001b[0m",
      "\u001b[1;31mAttributeError\u001b[0m                            Traceback (most recent call last)",
      "Input \u001b[1;32mIn [76]\u001b[0m, in \u001b[0;36m<cell line: 42>\u001b[1;34m()\u001b[0m\n\u001b[0;32m     40\u001b[0m comp1 \u001b[38;5;241m=\u001b[39m Complex(\u001b[38;5;241m2\u001b[39m, \u001b[38;5;241m3\u001b[39m)\n\u001b[0;32m     41\u001b[0m comp2 \u001b[38;5;241m=\u001b[39m Complex(\u001b[38;5;241m5\u001b[39m, \u001b[38;5;241m-\u001b[39m\u001b[38;5;241m2\u001b[39m)\n\u001b[1;32m---> 42\u001b[0m \u001b[43msolve\u001b[49m\u001b[43m(\u001b[49m\u001b[43mcomp1\u001b[49m\u001b[43m,\u001b[49m\u001b[43m \u001b[49m\u001b[43mcomp2\u001b[49m\u001b[43m)\u001b[49m\n",
      "Input \u001b[1;32mIn [76]\u001b[0m, in \u001b[0;36msolve\u001b[1;34m(comp1, comp2)\u001b[0m\n\u001b[0;32m     35\u001b[0m \u001b[38;5;28mprint\u001b[39m(comp1 \u001b[38;5;241m*\u001b[39m comp2)\n\u001b[0;32m     36\u001b[0m \u001b[38;5;28mprint\u001b[39m(comp1 \u001b[38;5;241m/\u001b[39m comp2)\n\u001b[1;32m---> 37\u001b[0m \u001b[38;5;28mprint\u001b[39m(\u001b[38;5;124m'\u001b[39m\u001b[38;5;132;01m%.2f\u001b[39;00m\u001b[38;5;124m'\u001b[39m \u001b[38;5;241m%\u001b[39m \u001b[43mcomp1\u001b[49m\u001b[38;5;241;43m.\u001b[39;49m\u001b[43mmod\u001b[49m())\n\u001b[0;32m     38\u001b[0m \u001b[38;5;28mprint\u001b[39m(\u001b[38;5;124m'\u001b[39m\u001b[38;5;132;01m%.2f\u001b[39;00m\u001b[38;5;124m'\u001b[39m \u001b[38;5;241m%\u001b[39m comp2\u001b[38;5;241m.\u001b[39mmod())\n",
      "\u001b[1;31mAttributeError\u001b[0m: 'Complex' object has no attribute 'mod'"
     ]
    }
   ],
   "source": [
    "from math import sqrt\n",
    "class Complex:\n",
    "   def __init__(self, real, imag):\n",
    "      self.re = real\n",
    "      self.im = imag\n",
    "\n",
    "   def __add__(self, o):\n",
    "      return Complex(self.re+o.re, self.im+o.im)\n",
    "\n",
    "   def __sub__(self, o):\n",
    "      return Complex(self.re-o.re, self.im-o.im)\n",
    "\n",
    "   def __mul__(self, o):\n",
    "      return Complex(self.re*o.re-self.im*o.im, self.re * o.im + self.im * o.re)\n",
    "\n",
    "   def __truediv__(self, o):\n",
    "      m = o.re * o.re + o.im * o.im\n",
    "      return Complex((self.re * o.re + self.im * o.im)/m, (self.im * o.re - self.re * o.im)/m)\n",
    "\n",
    "   def __str__(self):\n",
    "      if self.im == 0:\n",
    "         return '%.2f' % self.re\n",
    "      if self.re == 0:\n",
    "         return '%.2fi' % self.im\n",
    "      if self.im < 0:\n",
    "         return '%.2f - %.2fi' % (self.re, -self.im)\n",
    "      else:\n",
    "         return '%.2f + %.2fi' % (self.re, self.im)\n",
    "      def mod(self):\n",
    "         return sqrt(self.re*self.re+self.im*self.im)\n",
    "\n",
    "def solve(comp1, comp2):\n",
    "   print(comp1 + comp2)\n",
    "   print(comp1 - comp2)\n",
    "   print(comp1 * comp2)\n",
    "   print(comp1 / comp2)\n",
    "   print('%.2f' % comp1.mod())\n",
    "   print('%.2f' % comp2.mod())\n",
    "\n",
    "comp1 = Complex(2, 3)\n",
    "comp2 = Complex(5, -2)\n",
    "solve(comp1, comp2)"
   ]
  },
  {
   "cell_type": "code",
   "execution_count": null,
   "metadata": {},
   "outputs": [],
   "source": []
  }
 ],
 "metadata": {
  "colab": {
   "provenance": []
  },
  "kernelspec": {
   "display_name": "Python 3 (ipykernel)",
   "language": "python",
   "name": "python3"
  },
  "language_info": {
   "codemirror_mode": {
    "name": "ipython",
    "version": 3
   },
   "file_extension": ".py",
   "mimetype": "text/x-python",
   "name": "python",
   "nbconvert_exporter": "python",
   "pygments_lexer": "ipython3",
   "version": "3.9.12"
  }
 },
 "nbformat": 4,
 "nbformat_minor": 4
}
