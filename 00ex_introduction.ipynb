{
  "cells": [
    {
      "cell_type": "markdown",
      "metadata": {
        "id": "UD-CMEvKwlIr"
      },
      "source": [
        "1. The MickeyMouse problem\n",
        "\n",
        "a) Write a program that prints the numbers from 1 to 100. But for multiples of 3 print `Mickey` instead of the corresponding number and for the multiples of 5 print `Mouse`. For numbers which are multiples of both three and five print `MickeyMouse`\n",
        "\n",
        "b) Put the result in a tuple and substitute `Mickey` with `Donald` and `Mouse` with `Duck`"
      ]
    },
    {
      "cell_type": "code",
      "source": [
        "for i in range(1,100):\n",
        "  if i % 15 == 0: \n",
        "    print(\"MickeyMouse\")\n",
        "  \n",
        "  elif i % 5 == 0 :\n",
        "    print(\"Mouse\")\n",
        "  \n",
        "  elif i % 3 == 0 :\n",
        "    print(\"Mickey\")\n",
        "   \n",
        "  else:\n",
        "    print(i)\n"
      ],
      "metadata": {
        "id": "4e48TevvwpU7"
      },
      "execution_count": null,
      "outputs": []
    },
    {
      "cell_type": "markdown",
      "metadata": {
        "id": "AG95pQ_xwlIu"
      },
      "source": [
        "2\\. The swap function\n",
        "\n",
        "Write a function that swap the values of two input variables x and y (whatever the type). Try to do that also without a temporary variable"
      ]
    },
    {
      "cell_type": "code",
      "source": [
        "x = int (input (\"enter X : \"))\n",
        "y = int(input (\"enter Y : \"))\n",
        "\n",
        "y = x + y\n",
        "x = y - x\n",
        "y = y - x\n",
        "\n",
        "print (\"X = \" ,x ,\"; Y = \", y)"
      ],
      "metadata": {
        "colab": {
          "base_uri": "https://localhost:8080/"
        },
        "id": "qZQ5EyYKIJuN",
        "outputId": "e067b1ef-3404-46c0-97c6-6707fd74372c"
      },
      "execution_count": null,
      "outputs": [
        {
          "output_type": "stream",
          "name": "stdout",
          "text": [
            "enter X : 10\n",
            "enter Y : 20\n",
            "X =  20 : Y =  10\n"
          ]
        }
      ]
    },
    {
      "cell_type": "markdown",
      "metadata": {
        "id": "y3yZv7dSwlIv"
      },
      "source": [
        "3\\. Computing the distance\n",
        "\n",
        "Write a function that calculates and returns the euclidean distance between two points *u* and *v*, where *u* and *v* are both 2-tuples *(x,y)*. For example, if *u=(3,0)* and *v=(0,4)*, the function should return 5"
      ]
    },
    {
      "cell_type": "code",
      "source": [
        "import math\n",
        "u = (3 , 0)\n",
        "v = (0 , 4)\n",
        "\n",
        "ED = math.sqrt((u[0]-v[0])**2 + (u[1]-v[1])**2)\n",
        "print (ED)"
      ],
      "metadata": {
        "colab": {
          "base_uri": "https://localhost:8080/"
        },
        "id": "EzHxgQ_vS_Oj",
        "outputId": "78ab3120-d5e4-47e8-fdb3-8dec2ea41c5a"
      },
      "execution_count": null,
      "outputs": [
        {
          "output_type": "stream",
          "name": "stdout",
          "text": [
            "5.0\n"
          ]
        }
      ]
    },
    {
      "cell_type": "markdown",
      "metadata": {
        "id": "hG9fOuVIwlIv"
      },
      "source": [
        "4\\. Counting letters\n",
        "\n",
        "Write a program to calculate the number of times each character occurs in a given string *s*. Ignore differneces in capitalization"
      ]
    },
    {
      "cell_type": "code",
      "execution_count": null,
      "metadata": {
        "colab": {
          "base_uri": "https://localhost:8080/"
        },
        "id": "Xfwao6lmwlIw",
        "outputId": "c5283e53-3177-4a41-de09-7b2cb0227c2e"
      },
      "outputs": [
        {
          "output_type": "stream",
          "name": "stdout",
          "text": [
            "{'l': 6, 'm': 8, 'n': 10, 'c': 3, ' ': 41, '.': 2, 's': 9, '1': 2, 't': 19, 'r': 17, 'b': 4, 'h': 9, 'B': 1, 'y': 2, 'W': 1, 'd': 3, 'f': 9, 'k': 2, 'g': 1, 'F': 1, '0': 2, 'e': 22, 'v': 2, 'a': 7, 'M': 4, 'u': 9, 'o': 13, 'p': 8, 'w': 1, 'i': 14}\n"
          ]
        }
      ],
      "source": [
        "s=\"Write a program that prints the numbers from 1 to 100. \\\n",
        "But for multiples of three print Mickey instead of the number and for the multiples of five print Mouse. \\\n",
        "For numbers which are multiples of both three and five print MickeyMouse\"\n",
        "\n",
        "out = {x : s.count(x) for x in set(s)} \n",
        "print (out)"
      ]
    },
    {
      "cell_type": "code",
      "source": [
        "s = \"Write a program that prints the numbers from 1 to 100. \\\n",
        "But for multiples of three print Mickey instead of the number and for the multiples of five print Mouse. \\\n",
        "For numbers which are multiples of both three and five print MickeyMouse\"\n",
        "\n",
        "freq = {}\n",
        "    \n",
        "for t in s: \n",
        "    if t in freq: \n",
        "        freq[t] += 1\n",
        "    else: \n",
        "        freq[t] = 1\n",
        "    \n",
        "# printing result  \n",
        "print (\"Occurrence of all characters is : \\n\"+ str(freq)) "
      ],
      "metadata": {
        "id": "rmSQrGfoYhYM",
        "outputId": "6a14f79e-7114-487d-9295-e0d7985fe566",
        "colab": {
          "base_uri": "https://localhost:8080/"
        }
      },
      "execution_count": 9,
      "outputs": [
        {
          "output_type": "stream",
          "name": "stdout",
          "text": [
            "Occurrence of all characters is : \n",
            "{'W': 1, 'r': 17, 'i': 14, 't': 19, 'e': 22, ' ': 41, 'a': 7, 'p': 8, 'o': 13, 'g': 1, 'm': 8, 'h': 9, 'n': 10, 's': 9, 'u': 9, 'b': 4, 'f': 9, '1': 2, '0': 2, '.': 2, 'B': 1, 'l': 6, 'M': 4, 'c': 3, 'k': 2, 'y': 2, 'd': 3, 'v': 2, 'F': 1, 'w': 1}\n"
          ]
        }
      ]
    },
    {
      "cell_type": "code",
      "source": [
        "s=\"Write a program that prints the numbers from 1 to 100. \\\n",
        "But for multiples of three print Mickey instead of the number and for the multiples of five print Mouse. \\\n",
        "For numbers which are multiples of both three and five print MickeyMouse\"\n",
        "\n",
        "j = str(input(\"what do you want to count : \"))\n",
        "k = s.count(j)\n",
        "print (k)"
      ],
      "metadata": {
        "id": "E-4JJBbOc7mT",
        "outputId": "39785809-3f3b-45e6-a2fc-9b0d5b8322ee",
        "colab": {
          "base_uri": "https://localhost:8080/"
        }
      },
      "execution_count": 4,
      "outputs": [
        {
          "output_type": "stream",
          "name": "stdout",
          "text": [
            "what do you want to count : a\n",
            "7\n"
          ]
        }
      ]
    },
    {
      "cell_type": "markdown",
      "metadata": {
        "id": "F1kZB9NswlIx"
      },
      "source": [
        "5\\. Isolating the unique\n",
        "\n",
        "Write a function that determines and count the unique numbers in the list *l*"
      ]
    },
    {
      "cell_type": "code",
      "execution_count": 3,
      "metadata": {
        "colab": {
          "base_uri": "https://localhost:8080/"
        },
        "id": "dS3u8RUiwlIx",
        "outputId": "9be7510a-68a1-49b3-af46-98f995707c52"
      },
      "outputs": [
        {
          "output_type": "stream",
          "name": "stdout",
          "text": [
            "what do you want to count : 1\n",
            "1\n"
          ]
        }
      ],
      "source": [
        "l = [36, 45, 58, 3, 74, 96, 64, 45, 31, 10, 24, 19, 33, 86, 99, 18, 63, 70, 85,\n",
        " 85, 63, 47, 56, 42, 70, 84, 88, 55, 20, 54, 8, 56, 51, 79, 81, 57, 37, 91,\n",
        " 1, 84, 84, 36, 66, 9, 89, 50, 42, 91, 50, 95, 90, 98, 39, 16, 82, 31, 92, 41,\n",
        " 45, 30, 66, 70, 34, 85, 94, 5, 3, 36, 72, 91, 84, 34, 87, 75, 53, 51, 20, 89, 51, 20]\n",
        "\n",
        "a = int(input(\"what do you want to count : \"))\n",
        "x = l.count(a)\n",
        "print (x)"
      ]
    },
    {
      "cell_type": "code",
      "source": [
        "l = [36, 45, 58, 3, 74, 96, 64, 45, 31, 10, 24, 19, 33, 86, 99, 18, 63, 70, 85,\n",
        " 85, 63, 47, 56, 42, 70, 84, 88, 55, 20, 54, 8, 56, 51, 79, 81, 57, 37, 91,\n",
        " 1, 84, 84, 36, 66, 9, 89, 50, 42, 91, 50, 95, 90, 98, 39, 16, 82, 31, 92, 41,\n",
        " 45, 30, 66, 70, 34, 85, 94, 5, 3, 36, 72, 91, 84, 34, 87, 75, 53, 51, 20, 89, 51, 20]\n",
        "\n",
        "out = {r : l.count(x) for r in set(l)} \n",
        "print (out)"
      ],
      "metadata": {
        "id": "BYTxCCuIeCF5",
        "outputId": "f233b51d-d766-4580-8b70-c2a973dafd16",
        "colab": {
          "base_uri": "https://localhost:8080/"
        }
      },
      "execution_count": 10,
      "outputs": [
        {
          "output_type": "stream",
          "name": "stdout",
          "text": [
            "{1: 1, 3: 1, 5: 1, 8: 1, 9: 1, 10: 1, 16: 1, 18: 1, 19: 1, 20: 1, 24: 1, 30: 1, 31: 1, 33: 1, 34: 1, 36: 1, 37: 1, 39: 1, 41: 1, 42: 1, 45: 1, 47: 1, 50: 1, 51: 1, 53: 1, 54: 1, 55: 1, 56: 1, 57: 1, 58: 1, 63: 1, 64: 1, 66: 1, 70: 1, 72: 1, 74: 1, 75: 1, 79: 1, 81: 1, 82: 1, 84: 1, 85: 1, 86: 1, 87: 1, 88: 1, 89: 1, 90: 1, 91: 1, 92: 1, 94: 1, 95: 1, 96: 1, 98: 1, 99: 1}\n"
          ]
        }
      ]
    },
    {
      "cell_type": "markdown",
      "metadata": {
        "id": "WBGkDmhAwlIy"
      },
      "source": [
        "6\\. Combination of functions\n",
        "\n",
        "Write two functions - one that returns the square of a number, and one that returns the cube. Now write a third function that returns the number raised to the 6th power using the two previous functions."
      ]
    },
    {
      "cell_type": "code",
      "source": [
        "def square (a):\n",
        "    sqr = a * a \n",
        "    return sqr\n",
        "\n",
        "def cube (b):\n",
        "    cb = b * b * b \n",
        "    return cb\n",
        "\n",
        "def sixpow (sqqr,ccb):\n",
        "  sp = sqqr * ccb \n",
        "  return print(sp)\n",
        "\n",
        "sqqr = square (5)\n",
        "ccb = cube (5)\n",
        "\n",
        "sixpow (sqqr, ccb)"
      ],
      "metadata": {
        "id": "ytBa98oYejfk",
        "outputId": "19266ab5-50fb-4849-db70-05113f058554",
        "colab": {
          "base_uri": "https://localhost:8080/"
        }
      },
      "execution_count": 63,
      "outputs": [
        {
          "output_type": "stream",
          "name": "stdout",
          "text": [
            "3125\n"
          ]
        }
      ]
    },
    {
      "cell_type": "markdown",
      "metadata": {
        "id": "08BDyCdEwlIy"
      },
      "source": [
        "7\\. Cubes\n",
        "\n",
        "Create a list of the cubes of x for x in *[0, 10]* using:\n",
        "\n",
        "a) a for loop\n",
        "\n",
        "b) a list comprehension"
      ]
    },
    {
      "cell_type": "markdown",
      "metadata": {
        "id": "u8jtHSKcwlIz"
      },
      "source": [
        "8\\. Nested list comprehension\n",
        "\n",
        "A Pythagorean triple is an integer solution to the Pythagorean theorem $a^2+b^2=c^2$. The first Pythagorean triple is (3,4,5). Find and put in a tuple all unique Pythagorean triples for the positive integers a, b and c less than 100."
      ]
    },
    {
      "cell_type": "markdown",
      "metadata": {
        "id": "DrDA8gSlwlIz"
      },
      "source": [
        "9\\. Normalization\n",
        "\n",
        "Write a function that takes a tuple of numbers and returns it with the entries normalized to one"
      ]
    },
    {
      "cell_type": "code",
      "execution_count": null,
      "metadata": {
        "id": "-jClmp-HwlI0"
      },
      "outputs": [],
      "source": []
    }
  ],
  "metadata": {
    "kernelspec": {
      "display_name": "Python 3 (ipykernel)",
      "language": "python",
      "name": "python3"
    },
    "language_info": {
      "codemirror_mode": {
        "name": "ipython",
        "version": 3
      },
      "file_extension": ".py",
      "mimetype": "text/x-python",
      "name": "python",
      "nbconvert_exporter": "python",
      "pygments_lexer": "ipython3",
      "version": "3.9.7"
    },
    "colab": {
      "provenance": []
    }
  },
  "nbformat": 4,
  "nbformat_minor": 0
}