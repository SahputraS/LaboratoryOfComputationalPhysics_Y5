{
  "cells": [
    {
      "cell_type": "markdown",
      "metadata": {
        "id": "UD-CMEvKwlIr"
      },
      "source": [
        "1. The MickeyMouse problem\n",
        "\n",
        "a) Write a program that prints the numbers from 1 to 100. But for multiples of 3 print `Mickey` instead of the corresponding number and for the multiples of 5 print `Mouse`. For numbers which are multiples of both three and five print `MickeyMouse`\n",
        "\n",
        "b) Put the result in a tuple and substitute `Mickey` with `Donald` and `Mouse` with `Duck`"
      ]
    },
    {
      "cell_type": "code",
      "source": [
        "for i in range(1,100):\n",
        "  if i % 15 == 0: \n",
        "    print(\"MickeyMouse\")\n",
        "  \n",
        "  elif i % 5 == 0 :\n",
        "    print(\"Mouse\")\n",
        "  \n",
        "  elif i % 3 == 0 :\n",
        "    print(\"Mickey\")\n",
        "   \n",
        "  else:\n",
        "    print(i)\n"
      ],
      "metadata": {
        "id": "4e48TevvwpU7"
      },
      "execution_count": null,
      "outputs": []
    },
    {
      "cell_type": "code",
      "source": [
        "a = list(range(100))\n",
        "for i in a:\n",
        "  if i % 15 == 0: \n",
        "    a  = \"MM\"\n",
        "    # print(\"MickeyMouse\")\n",
        "  \n",
        "  elif i % 5 == 0 :\n",
        "    a = \"MO\"\n",
        "    # print(\"Mouse\")\n",
        "  \n",
        "  elif i % 3 == 0 :\n",
        "    a = \"MI\"\n",
        "    # print(\"Mickey\")\n",
        "   \n",
        "  else:\n",
        "    a = i\n",
        "\n",
        "print (a)\n"
      ],
      "metadata": {
        "colab": {
          "base_uri": "https://localhost:8080/"
        },
        "id": "B8_O9s1hDTGd",
        "outputId": "9122e906-c134-417d-c9f5-750f8ce3ca1f"
      },
      "execution_count": 59,
      "outputs": [
        {
          "output_type": "stream",
          "name": "stdout",
          "text": [
            "MI\n"
          ]
        }
      ]
    },
    {
      "cell_type": "markdown",
      "metadata": {
        "id": "AG95pQ_xwlIu"
      },
      "source": [
        "2\\. The swap function\n",
        "\n",
        "Write a function that swap the values of two input variables x and y (whatever the type). Try to do that also without a temporary variable"
      ]
    },
    {
      "cell_type": "code",
      "source": [
        "x = int (input (\"enter X : \"))\n",
        "y = int(input (\"enter Y : \"))\n",
        "\n",
        "y = x + y\n",
        "x = y - x\n",
        "y = y - x\n",
        "\n",
        "print (\"X = \" ,x ,\"; Y = \", y)"
      ],
      "metadata": {
        "colab": {
          "base_uri": "https://localhost:8080/"
        },
        "id": "qZQ5EyYKIJuN",
        "outputId": "e067b1ef-3404-46c0-97c6-6707fd74372c"
      },
      "execution_count": 73,
      "outputs": [
        {
          "output_type": "stream",
          "name": "stdout",
          "text": [
            "enter X : 10\n",
            "enter Y : 20\n",
            "X =  20 : Y =  10\n"
          ]
        }
      ]
    },
    {
      "cell_type": "markdown",
      "metadata": {
        "id": "y3yZv7dSwlIv"
      },
      "source": [
        "3\\. Computing the distance\n",
        "\n",
        "Write a function that calculates and returns the euclidean distance between two points *u* and *v*, where *u* and *v* are both 2-tuples *(x,y)*. For example, if *u=(3,0)* and *v=(0,4)*, the function should return 5"
      ]
    },
    {
      "cell_type": "code",
      "source": [
        "import math\n",
        "u = (3 , 0)\n",
        "v = (0 , 4)\n",
        "\n",
        "ED = math.sqrt((u[0]-v[0])**2 + (u[1]-v[1])**2)\n",
        "print (ED)"
      ],
      "metadata": {
        "colab": {
          "base_uri": "https://localhost:8080/"
        },
        "id": "EzHxgQ_vS_Oj",
        "outputId": "78ab3120-d5e4-47e8-fdb3-8dec2ea41c5a"
      },
      "execution_count": 83,
      "outputs": [
        {
          "output_type": "stream",
          "name": "stdout",
          "text": [
            "5.0\n"
          ]
        }
      ]
    },
    {
      "cell_type": "markdown",
      "metadata": {
        "id": "hG9fOuVIwlIv"
      },
      "source": [
        "4\\. Counting letters\n",
        "\n",
        "Write a program to calculate the number of times each character occurs in a given string *s*. Ignore differneces in capitalization"
      ]
    },
    {
      "cell_type": "code",
      "execution_count": null,
      "metadata": {
        "id": "Xfwao6lmwlIw"
      },
      "outputs": [],
      "source": [
        "s=\"Write a program that prints the numbers from 1 to 100. \\\n",
        "But for multiples of three print Mickey instead of the number and for the multiples of five print Mouse. \\\n",
        "For numbers which are multiples of both three and five print MickeyMouse\""
      ]
    },
    {
      "cell_type": "markdown",
      "metadata": {
        "id": "F1kZB9NswlIx"
      },
      "source": [
        "5\\. Isolating the unique\n",
        "\n",
        "Write a function that determines and count the unique numbers in the list *l*"
      ]
    },
    {
      "cell_type": "code",
      "execution_count": null,
      "metadata": {
        "id": "dS3u8RUiwlIx"
      },
      "outputs": [],
      "source": [
        "l = [36, 45, 58, 3, 74, 96, 64, 45, 31, 10, 24, 19, 33, 86, 99, 18, 63, 70, 85,\n",
        " 85, 63, 47, 56, 42, 70, 84, 88, 55, 20, 54, 8, 56, 51, 79, 81, 57, 37, 91,\n",
        " 1, 84, 84, 36, 66, 9, 89, 50, 42, 91, 50, 95, 90, 98, 39, 16, 82, 31, 92, 41,\n",
        " 45, 30, 66, 70, 34, 85, 94, 5, 3, 36, 72, 91, 84, 34, 87, 75, 53, 51, 20, 89, 51, 20]"
      ]
    },
    {
      "cell_type": "markdown",
      "metadata": {
        "id": "WBGkDmhAwlIy"
      },
      "source": [
        "6\\. Combination of functions\n",
        "\n",
        "Write two functions - one that returns the square of a number, and one that returns the cube. Now write a third function that returns the number raised to the 6th power using the two previous functions."
      ]
    },
    {
      "cell_type": "markdown",
      "metadata": {
        "id": "08BDyCdEwlIy"
      },
      "source": [
        "7\\. Cubes\n",
        "\n",
        "Create a list of the cubes of x for x in *[0, 10]* using:\n",
        "\n",
        "a) a for loop\n",
        "\n",
        "b) a list comprehension"
      ]
    },
    {
      "cell_type": "markdown",
      "metadata": {
        "id": "u8jtHSKcwlIz"
      },
      "source": [
        "8\\. Nested list comprehension\n",
        "\n",
        "A Pythagorean triple is an integer solution to the Pythagorean theorem $a^2+b^2=c^2$. The first Pythagorean triple is (3,4,5). Find and put in a tuple all unique Pythagorean triples for the positive integers a, b and c less than 100."
      ]
    },
    {
      "cell_type": "markdown",
      "metadata": {
        "id": "DrDA8gSlwlIz"
      },
      "source": [
        "9\\. Normalization\n",
        "\n",
        "Write a function that takes a tuple of numbers and returns it with the entries normalized to one"
      ]
    },
    {
      "cell_type": "code",
      "execution_count": null,
      "metadata": {
        "id": "-jClmp-HwlI0"
      },
      "outputs": [],
      "source": []
    }
  ],
  "metadata": {
    "kernelspec": {
      "display_name": "Python 3 (ipykernel)",
      "language": "python",
      "name": "python3"
    },
    "language_info": {
      "codemirror_mode": {
        "name": "ipython",
        "version": 3
      },
      "file_extension": ".py",
      "mimetype": "text/x-python",
      "name": "python",
      "nbconvert_exporter": "python",
      "pygments_lexer": "ipython3",
      "version": "3.9.7"
    },
    "colab": {
      "provenance": []
    }
  },
  "nbformat": 4,
  "nbformat_minor": 0
}