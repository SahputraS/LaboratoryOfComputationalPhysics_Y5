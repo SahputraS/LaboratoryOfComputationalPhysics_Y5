{
 "cells": [
  {
   "cell_type": "markdown",
   "metadata": {
    "id": "UD-CMEvKwlIr"
   },
   "source": [
    "1. The MickeyMouse problem\n",
    "\n",
    "a) Write a program that prints the numbers from 1 to 100. But for multiples of 3 print `Mickey` instead of the corresponding number and for the multiples of 5 print `Mouse`. For numbers which are multiples of both three and five print `MickeyMouse`\n",
    "\n",
    "b) Put the result in a tuple and substitute `Mickey` with `Donald` and `Mouse` with `Duck`"
   ]
  },
  {
   "cell_type": "code",
   "execution_count": null,
   "metadata": {
    "id": "4e48TevvwpU7"
   },
   "outputs": [],
   "source": [
    "#this\n",
    "for i in range(1,100):\n",
    "  if i % 15 == 0: \n",
    "    print(\"MickeyMouse\")\n",
    "  \n",
    "  elif i % 5 == 0 :\n",
    "    print(\"Mouse\")\n",
    "  \n",
    "  elif i % 3 == 0 :\n",
    "    print(\"Mickey\")\n",
    "   \n",
    "  else:\n",
    "    print(i)\n"
   ]
  },
  {
   "cell_type": "code",
   "execution_count": 49,
   "metadata": {},
   "outputs": [
    {
     "ename": "SyntaxError",
     "evalue": "invalid syntax (<ipython-input-49-272544a2f781>, line 32)",
     "output_type": "error",
     "traceback": [
      "\u001b[0;36m  File \u001b[0;32m\"<ipython-input-49-272544a2f781>\"\u001b[0;36m, line \u001b[0;32m32\u001b[0m\n\u001b[0;31m    listb = str.replace(\"Mickey\", \"Donald\") for str in lista\u001b[0m\n\u001b[0m                                              ^\u001b[0m\n\u001b[0;31mSyntaxError\u001b[0m\u001b[0;31m:\u001b[0m invalid syntax\n"
     ]
    }
   ],
   "source": [
    "#or this\n",
    "lista = list(range(1,100))\n",
    "for i in range(0,99):\n",
    "  if lista[i] % 15 == 0: \n",
    "    lista[i]=(\"MickeyMouse\")\n",
    "  \n",
    "  elif lista[i] % 5 == 0: \n",
    "    lista[i]=(\"Mouse\")\n",
    "  \n",
    "  elif lista[i] % 5 == 0: \n",
    "    lista[i]=(\"Mickey\")\n",
    "    \n",
    "  else:\n",
    "    i = i\n",
    "\n",
    "#print(lista)\n",
    "\n",
    "#then swap the donald duck \n",
    "# for i in range(0,99):\n",
    "#     if lista[i]==(\"MickeyMouse\"):\n",
    "#           lista[i]=(\"DonaldDuck\")\n",
    "        \n",
    "#     elif lista[i]==(\"Mouse\"):\n",
    "#         lista[i] = (\"Duck\")\n",
    "  \n",
    "#     elif lista[i]==(\"Mickey\"):\n",
    "#          lista[i]=(\"Donald\")  \n",
    "    \n",
    "#     else:\n",
    "#         i = i\n",
    "\n",
    "a= \"Mickey Mopuse\"\n",
    "\n",
    "listb = a.replace(\"Mickey\", \"Donald\")\n",
    "        \n",
    "tuplelist = tuple(lista)\n",
    "print(tuplelist)"
   ]
  },
  {
   "cell_type": "code",
   "execution_count": 52,
   "metadata": {},
   "outputs": [
    {
     "data": {
      "text/plain": [
       "[1,\n",
       " 2,\n",
       " 3,\n",
       " 4,\n",
       " 'Mouse',\n",
       " 6,\n",
       " 7,\n",
       " 8,\n",
       " 9,\n",
       " 'Mouse',\n",
       " 11,\n",
       " 12,\n",
       " 13,\n",
       " 14,\n",
       " 'MickeyMouse',\n",
       " 16,\n",
       " 17,\n",
       " 18,\n",
       " 19,\n",
       " 'Mouse',\n",
       " 21,\n",
       " 22,\n",
       " 23,\n",
       " 24,\n",
       " 'Mouse',\n",
       " 26,\n",
       " 27,\n",
       " 28,\n",
       " 29,\n",
       " 'MickeyMouse',\n",
       " 31,\n",
       " 32,\n",
       " 33,\n",
       " 34,\n",
       " 'Mouse',\n",
       " 36,\n",
       " 37,\n",
       " 38,\n",
       " 39,\n",
       " 'Mouse',\n",
       " 41,\n",
       " 42,\n",
       " 43,\n",
       " 44,\n",
       " 'MickeyMouse',\n",
       " 46,\n",
       " 47,\n",
       " 48,\n",
       " 49,\n",
       " 'Mouse',\n",
       " 51,\n",
       " 52,\n",
       " 53,\n",
       " 54,\n",
       " 'Mouse',\n",
       " 56,\n",
       " 57,\n",
       " 58,\n",
       " 59,\n",
       " 'MickeyMouse',\n",
       " 61,\n",
       " 62,\n",
       " 63,\n",
       " 64,\n",
       " 'Mouse',\n",
       " 66,\n",
       " 67,\n",
       " 68,\n",
       " 69,\n",
       " 'Mouse',\n",
       " 71,\n",
       " 72,\n",
       " 73,\n",
       " 74,\n",
       " 'MickeyMouse',\n",
       " 76,\n",
       " 77,\n",
       " 78,\n",
       " 79,\n",
       " 'Mouse',\n",
       " 81,\n",
       " 82,\n",
       " 83,\n",
       " 84,\n",
       " 'Mouse',\n",
       " 86,\n",
       " 87,\n",
       " 88,\n",
       " 89,\n",
       " 'MickeyMouse',\n",
       " 91,\n",
       " 92,\n",
       " 93,\n",
       " 94,\n",
       " 'Mouse',\n",
       " 96,\n",
       " 97,\n",
       " 98,\n",
       " 99]"
      ]
     },
     "execution_count": 52,
     "metadata": {},
     "output_type": "execute_result"
    }
   ],
   "source": [
    "lista"
   ]
  },
  {
   "cell_type": "code",
   "execution_count": 53,
   "metadata": {},
   "outputs": [
    {
     "data": {
      "text/plain": [
       "[1,\n",
       " 2,\n",
       " 3,\n",
       " 4,\n",
       " 'Mouse',\n",
       " 6,\n",
       " 7,\n",
       " 8,\n",
       " 9,\n",
       " 'Mouse',\n",
       " 11,\n",
       " 12,\n",
       " 13,\n",
       " 14,\n",
       " 'DonaldMouse',\n",
       " 16,\n",
       " 17,\n",
       " 18,\n",
       " 19,\n",
       " 'Mouse',\n",
       " 21,\n",
       " 22,\n",
       " 23,\n",
       " 24,\n",
       " 'Mouse',\n",
       " 26,\n",
       " 27,\n",
       " 28,\n",
       " 29,\n",
       " 'DonaldMouse',\n",
       " 31,\n",
       " 32,\n",
       " 33,\n",
       " 34,\n",
       " 'Mouse',\n",
       " 36,\n",
       " 37,\n",
       " 38,\n",
       " 39,\n",
       " 'Mouse',\n",
       " 41,\n",
       " 42,\n",
       " 43,\n",
       " 44,\n",
       " 'DonaldMouse',\n",
       " 46,\n",
       " 47,\n",
       " 48,\n",
       " 49,\n",
       " 'Mouse',\n",
       " 51,\n",
       " 52,\n",
       " 53,\n",
       " 54,\n",
       " 'Mouse',\n",
       " 56,\n",
       " 57,\n",
       " 58,\n",
       " 59,\n",
       " 'DonaldMouse',\n",
       " 61,\n",
       " 62,\n",
       " 63,\n",
       " 64,\n",
       " 'Mouse',\n",
       " 66,\n",
       " 67,\n",
       " 68,\n",
       " 69,\n",
       " 'Mouse',\n",
       " 71,\n",
       " 72,\n",
       " 73,\n",
       " 74,\n",
       " 'DonaldMouse',\n",
       " 76,\n",
       " 77,\n",
       " 78,\n",
       " 79,\n",
       " 'Mouse',\n",
       " 81,\n",
       " 82,\n",
       " 83,\n",
       " 84,\n",
       " 'Mouse',\n",
       " 86,\n",
       " 87,\n",
       " 88,\n",
       " 89,\n",
       " 'DonaldMouse',\n",
       " 91,\n",
       " 92,\n",
       " 93,\n",
       " 94,\n",
       " 'Mouse',\n",
       " 96,\n",
       " 97,\n",
       " 98,\n",
       " 99]"
      ]
     },
     "execution_count": 53,
     "metadata": {},
     "output_type": "execute_result"
    }
   ],
   "source": [
    "b = []\n",
    "\n",
    "for s in lista:\n",
    "    if type(s)==str:\n",
    "        s = s.replace(\"Mickey\", \"Donald\")\n",
    "    b.append(s)\n",
    "    \n",
    "b"
   ]
  },
  {
   "cell_type": "code",
   "execution_count": 54,
   "metadata": {},
   "outputs": [
    {
     "data": {
      "text/plain": [
       "['Mouse',\n",
       " 'Mouse',\n",
       " 'DonaldMouse',\n",
       " 'Mouse',\n",
       " 'Mouse',\n",
       " 'DonaldMouse',\n",
       " 'Mouse',\n",
       " 'Mouse',\n",
       " 'DonaldMouse',\n",
       " 'Mouse',\n",
       " 'Mouse',\n",
       " 'DonaldMouse',\n",
       " 'Mouse',\n",
       " 'Mouse',\n",
       " 'DonaldMouse',\n",
       " 'Mouse',\n",
       " 'Mouse',\n",
       " 'DonaldMouse',\n",
       " 'Mouse']"
      ]
     },
     "execution_count": 54,
     "metadata": {},
     "output_type": "execute_result"
    }
   ],
   "source": [
    "# c = [s.replace(\"Mickey\", \"Donald\") for s in lista if type(s)==str]\n",
    "# c\n",
    "# no integer because the program changes every string and only works with string "
   ]
  },
  {
   "cell_type": "markdown",
   "metadata": {
    "id": "AG95pQ_xwlIu"
   },
   "source": [
    "2\\. The swap function\n",
    "\n",
    "Write a function that swap the values of two input variables x and y (whatever the type). Try to do that also without a temporary variable"
   ]
  },
  {
   "cell_type": "code",
   "execution_count": 11,
   "metadata": {
    "colab": {
     "base_uri": "https://localhost:8080/"
    },
    "id": "qZQ5EyYKIJuN",
    "outputId": "e067b1ef-3404-46c0-97c6-6707fd74372c"
   },
   "outputs": [
    {
     "name": "stdout",
     "output_type": "stream",
     "text": [
      "enter X : 1\n",
      "enter Y : 2\n",
      "X =  2 ; Y =  1\n"
     ]
    }
   ],
   "source": [
    "x = int (input (\"enter X : \"))\n",
    "y = int(input (\"enter Y : \"))\n",
    "\n",
    "y = x + y\n",
    "x = y - x\n",
    "y = y - x\n",
    "\n",
    "print (\"X = \" ,x ,\"; Y = \", y)"
   ]
  },
  {
   "cell_type": "markdown",
   "metadata": {
    "id": "y3yZv7dSwlIv"
   },
   "source": [
    "3\\. Computing the distance\n",
    "\n",
    "Write a function that calculates and returns the euclidean distance between two points *u* and *v*, where *u* and *v* are both 2-tuples *(x,y)*. For example, if *u=(3,0)* and *v=(0,4)*, the function should return 5"
   ]
  },
  {
   "cell_type": "code",
   "execution_count": 24,
   "metadata": {
    "colab": {
     "base_uri": "https://localhost:8080/"
    },
    "id": "EzHxgQ_vS_Oj",
    "outputId": "78ab3120-d5e4-47e8-fdb3-8dec2ea41c5a"
   },
   "outputs": [
    {
     "name": "stdout",
     "output_type": "stream",
     "text": [
      "5.0\n"
     ]
    }
   ],
   "source": [
    "u = (3 , 0)\n",
    "v = (0 , 4)\n",
    "\n",
    "ED = ((u[0]-v[0])**2 + (u[1]-v[1])**2)**0.5\n",
    "print (ED)"
   ]
  },
  {
   "cell_type": "markdown",
   "metadata": {
    "id": "hG9fOuVIwlIv"
   },
   "source": [
    "4\\. Counting letters\n",
    "\n",
    "Write a program to calculate the number of times each character occurs in a given string *s*. Ignore differneces in capitalization"
   ]
  },
  {
   "cell_type": "code",
   "execution_count": 25,
   "metadata": {
    "colab": {
     "base_uri": "https://localhost:8080/"
    },
    "id": "Xfwao6lmwlIw",
    "outputId": "c5283e53-3177-4a41-de09-7b2cb0227c2e"
   },
   "outputs": [
    {
     "name": "stdout",
     "output_type": "stream",
     "text": [
      "{'w': 1, 'i': 14, 'e': 22, '.': 2, 'W': 1, 'c': 3, '0': 2, 'p': 8, 'u': 9, 'r': 17, 't': 19, 'F': 1, 'k': 2, 'l': 6, 'a': 7, 'y': 2, '1': 2, ' ': 41, 'M': 4, 'n': 10, 'h': 9, 'm': 8, 's': 9, 'd': 3, 'f': 9, 'b': 4, 'g': 1, 'o': 13, 'v': 2, 'B': 1}\n"
     ]
    }
   ],
   "source": [
    "s=\"Write a program that prints the numbers from 1 to 100. \\\n",
    "But for multiples of three print Mickey instead of the number and for the multiples of five print Mouse. \\\n",
    "For numbers which are multiples of both three and five print MickeyMouse\"\n",
    "\n",
    "out = {x : s.count(x) for x in set(s)} \n",
    "print (out)"
   ]
  },
  {
   "cell_type": "code",
   "execution_count": 27,
   "metadata": {
    "colab": {
     "base_uri": "https://localhost:8080/"
    },
    "id": "rmSQrGfoYhYM",
    "outputId": "6a14f79e-7114-487d-9295-e0d7985fe566"
   },
   "outputs": [
    {
     "name": "stdout",
     "output_type": "stream",
     "text": [
      "Freq : \n",
      "{'W': 1, 'r': 17, 'i': 14, 't': 19, 'e': 22, ' ': 41, 'a': 7, 'p': 8, 'o': 13, 'g': 1, 'm': 8, 'h': 9, 'n': 10, 's': 9, 'u': 9, 'b': 4, 'f': 9, '1': 2, '0': 2, '.': 2, 'B': 1, 'l': 6, 'M': 4, 'c': 3, 'k': 2, 'y': 2, 'd': 3, 'v': 2, 'F': 1, 'w': 1}\n"
     ]
    }
   ],
   "source": [
    "s = \"Write a program that prints the numbers from 1 to 100. \\\n",
    "But for multiples of three print Mickey instead of the number and for the multiples of five print Mouse. \\\n",
    "For numbers which are multiples of both three and five print MickeyMouse\"\n",
    "\n",
    "freq = {}\n",
    "    \n",
    "for t in s: \n",
    "    if t in freq: \n",
    "        freq[t] += 1\n",
    "    else: \n",
    "        freq[t] = 1\n",
    "    \n",
    "# printing result  \n",
    "print (\"Freq : \\n\"+ str(freq)) "
   ]
  },
  {
   "cell_type": "code",
   "execution_count": 28,
   "metadata": {
    "colab": {
     "base_uri": "https://localhost:8080/"
    },
    "id": "E-4JJBbOc7mT",
    "outputId": "39785809-3f3b-45e6-a2fc-9b0d5b8322ee"
   },
   "outputs": [
    {
     "name": "stdout",
     "output_type": "stream",
     "text": [
      "what do you want to count : 1\n",
      "2\n"
     ]
    }
   ],
   "source": [
    "s=\"Write a program that prints the numbers from 1 to 100. \\\n",
    "But for multiples of three print Mickey instead of the number and for the multiples of five print Mouse. \\\n",
    "For numbers which are multiples of both three and five print MickeyMouse\"\n",
    "\n",
    "j = str(input(\"what do you want to count : \"))\n",
    "k = s.count(j)\n",
    "print (k)"
   ]
  },
  {
   "cell_type": "markdown",
   "metadata": {
    "id": "F1kZB9NswlIx"
   },
   "source": [
    "5\\. Isolating the unique\n",
    "\n",
    "Write a function that determines and count the unique numbers in the list *l*"
   ]
  },
  {
   "cell_type": "code",
   "execution_count": 29,
   "metadata": {
    "colab": {
     "base_uri": "https://localhost:8080/"
    },
    "id": "dS3u8RUiwlIx",
    "outputId": "9be7510a-68a1-49b3-af46-98f995707c52"
   },
   "outputs": [
    {
     "name": "stdout",
     "output_type": "stream",
     "text": [
      "what do you want to count : 5\n",
      "1\n"
     ]
    }
   ],
   "source": [
    "l = [36, 45, 58, 3, 74, 96, 64, 45, 31, 10, 24, 19, 33, 86, 99, 18, 63, 70, 85,\n",
    " 85, 63, 47, 56, 42, 70, 84, 88, 55, 20, 54, 8, 56, 51, 79, 81, 57, 37, 91,\n",
    " 1, 84, 84, 36, 66, 9, 89, 50, 42, 91, 50, 95, 90, 98, 39, 16, 82, 31, 92, 41,\n",
    " 45, 30, 66, 70, 34, 85, 94, 5, 3, 36, 72, 91, 84, 34, 87, 75, 53, 51, 20, 89, 51, 20]\n",
    "\n",
    "a = int(input(\"what do you want to count : \"))\n",
    "x = l.count(a)\n",
    "print (x)"
   ]
  },
  {
   "cell_type": "code",
   "execution_count": 10,
   "metadata": {
    "colab": {
     "base_uri": "https://localhost:8080/"
    },
    "id": "BYTxCCuIeCF5",
    "outputId": "f233b51d-d766-4580-8b70-c2a973dafd16"
   },
   "outputs": [
    {
     "name": "stdout",
     "output_type": "stream",
     "text": [
      "{1: 1, 3: 1, 5: 1, 8: 1, 9: 1, 10: 1, 16: 1, 18: 1, 19: 1, 20: 1, 24: 1, 30: 1, 31: 1, 33: 1, 34: 1, 36: 1, 37: 1, 39: 1, 41: 1, 42: 1, 45: 1, 47: 1, 50: 1, 51: 1, 53: 1, 54: 1, 55: 1, 56: 1, 57: 1, 58: 1, 63: 1, 64: 1, 66: 1, 70: 1, 72: 1, 74: 1, 75: 1, 79: 1, 81: 1, 82: 1, 84: 1, 85: 1, 86: 1, 87: 1, 88: 1, 89: 1, 90: 1, 91: 1, 92: 1, 94: 1, 95: 1, 96: 1, 98: 1, 99: 1}\n"
     ]
    }
   ],
   "source": [
    "l = [36, 45, 58, 3, 74, 96, 64, 45, 31, 10, 24, 19, 33, 86, 99, 18, 63, 70, 85,\n",
    " 85, 63, 47, 56, 42, 70, 84, 88, 55, 20, 54, 8, 56, 51, 79, 81, 57, 37, 91,\n",
    " 1, 84, 84, 36, 66, 9, 89, 50, 42, 91, 50, 95, 90, 98, 39, 16, 82, 31, 92, 41,\n",
    " 45, 30, 66, 70, 34, 85, 94, 5, 3, 36, 72, 91, 84, 34, 87, 75, 53, 51, 20, 89, 51, 20]\n",
    "\n",
    "out = {r : l.count(x) for r in set(l)} \n",
    "print (out)"
   ]
  },
  {
   "cell_type": "markdown",
   "metadata": {
    "id": "WBGkDmhAwlIy"
   },
   "source": [
    "6\\. Combination of functions\n",
    "\n",
    "Write two functions - one that returns the square of a number, and one that returns the cube. Now write a third function that returns the number raised to the 6th power using the two previous functions."
   ]
  },
  {
   "cell_type": "code",
   "execution_count": 63,
   "metadata": {
    "colab": {
     "base_uri": "https://localhost:8080/"
    },
    "id": "ytBa98oYejfk",
    "outputId": "19266ab5-50fb-4849-db70-05113f058554"
   },
   "outputs": [
    {
     "name": "stdout",
     "output_type": "stream",
     "text": [
      "3125\n"
     ]
    }
   ],
   "source": [
    "def square (a):\n",
    "    sqr = a * a \n",
    "    return sqr\n",
    "\n",
    "def cube (b):\n",
    "    cb = b * b * b \n",
    "    return cb\n",
    "\n",
    "def sixpow (sqqr,ccb):\n",
    "  sp = sqqr * ccb \n",
    "  return print(sp)\n",
    "\n",
    "sqqr = square (5)\n",
    "ccb = cube (5)\n",
    "\n",
    "sixpow (sqqr, ccb)"
   ]
  },
  {
   "cell_type": "markdown",
   "metadata": {
    "id": "08BDyCdEwlIy"
   },
   "source": [
    "7\\. Cubes\n",
    "\n",
    "Create a list of the cubes of x for x in *[0, 10]* using:\n",
    "\n",
    "a) a for loop\n",
    "\n",
    "b) a list comprehension"
   ]
  },
  {
   "cell_type": "code",
   "execution_count": 47,
   "metadata": {},
   "outputs": [
    {
     "name": "stdout",
     "output_type": "stream",
     "text": [
      "[0, 1, 8, 27, 64, 125, 216, 343, 512, 729, 1000]\n"
     ]
    }
   ],
   "source": [
    "p = list(range(0,11))\n",
    "for i in range (0,11):\n",
    "    p[i] = i*i*i\n",
    "print (p)"
   ]
  },
  {
   "cell_type": "markdown",
   "metadata": {
    "id": "u8jtHSKcwlIz"
   },
   "source": [
    "8\\. Nested list comprehension\n",
    "\n",
    "A Pythagorean triple is an integer solution to the Pythagorean theorem $a^2+b^2=c^2$. The first Pythagorean triple is (3,4,5). Find and put in a tuple all unique Pythagorean triples for the positive integers a, b and c less than 100."
   ]
  },
  {
   "cell_type": "code",
   "execution_count": 1,
   "metadata": {},
   "outputs": [
    {
     "name": "stdout",
     "output_type": "stream",
     "text": [
      "3 4 5\n",
      "8 6 10\n",
      "5 12 13\n",
      "15 8 17\n",
      "12 16 20\n",
      "7 24 25\n",
      "24 10 26\n",
      "21 20 29\n",
      "16 30 34\n",
      "9 40 41\n",
      "35 12 37\n",
      "32 24 40\n",
      "27 36 45\n",
      "20 48 52\n",
      "11 60 61\n",
      "48 14 50\n",
      "45 28 53\n",
      "40 42 58\n",
      "33 56 65\n",
      "24 70 74\n",
      "13 84 85\n",
      "63 16 65\n",
      "60 32 68\n",
      "55 48 73\n",
      "48 64 80\n",
      "39 80 89\n",
      "80 18 82\n",
      "77 36 85\n",
      "72 54 90\n",
      "65 72 97\n"
     ]
    }
   ],
   "source": [
    "# pythagorean triples using euclidian formula\n",
    "# a = m^2 - n^2\n",
    "# b = 2mn\n",
    "# c = m^2 + n^2\n",
    "\n",
    "for m in range (1,100):\n",
    "    for n in range (1,m):\n",
    "        a = m*m - n*n\n",
    "        b = 2*m*n\n",
    "        c = m*m + n*n\n",
    "        \n",
    "        if c < 100:\n",
    "            print (a,b,c)\n",
    "            \n",
    "        else:\n",
    "            break\n",
    "            \n",
    "        "
   ]
  },
  {
   "cell_type": "markdown",
   "metadata": {
    "id": "DrDA8gSlwlIz"
   },
   "source": [
    "9\\. Normalization\n",
    "\n",
    "Write a function that takes a tuple of numbers and returns it with the entries normalized to one"
   ]
  },
  {
   "cell_type": "code",
   "execution_count": null,
   "metadata": {
    "id": "-jClmp-HwlI0"
   },
   "outputs": [],
   "source": [
    "[1,2,3]\n",
    "sum = 6\n",
    "\n"
   ]
  }
 ],
 "metadata": {
  "colab": {
   "provenance": []
  },
  "kernelspec": {
   "display_name": "Python 3",
   "language": "python",
   "name": "python3"
  },
  "language_info": {
   "codemirror_mode": {
    "name": "ipython",
    "version": 3
   },
   "file_extension": ".py",
   "mimetype": "text/x-python",
   "name": "python",
   "nbconvert_exporter": "python",
   "pygments_lexer": "ipython3",
   "version": "3.6.8"
  }
 },
 "nbformat": 4,
 "nbformat_minor": 1
}
