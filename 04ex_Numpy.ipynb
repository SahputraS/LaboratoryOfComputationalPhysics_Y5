{
 "cells": [
  {
   "cell_type": "markdown",
   "metadata": {},
   "source": [
    "### Numpy basics"
   ]
  },
  {
   "cell_type": "code",
   "execution_count": 184,
   "metadata": {},
   "outputs": [],
   "source": [
    "import numpy as np \n",
    "import matplotlib.pyplot as plt"
   ]
  },
  {
   "cell_type": "markdown",
   "metadata": {},
   "source": [
    "1\\. Find the row, column and overall means for the following matrix:\n",
    "\n",
    "```python\n",
    "m = np.arange(12).reshape((3,4))\n",
    "```"
   ]
  },
  {
   "cell_type": "code",
   "execution_count": 5,
   "metadata": {},
   "outputs": [
    {
     "name": "stdout",
     "output_type": "stream",
     "text": [
      "[[ 0  1  2  3]\n",
      " [ 4  5  6  7]\n",
      " [ 8  9 10 11]]\n",
      "rank : \n",
      " 2\n",
      "shape : \n",
      " (3, 4)\n"
     ]
    }
   ],
   "source": [
    "m = np.arange(12).reshape((3,4))\n",
    "print (m)\n",
    "\n",
    "\n",
    "print(\"rank : \\n\" , m.ndim)\n",
    "print(\"shape : \\n\", m.shape)\n",
    "\n"
   ]
  },
  {
   "cell_type": "markdown",
   "metadata": {},
   "source": [
    "2\\. Find the outer product of the following two vectors\n",
    "\n",
    "```python\n",
    "u = np.array([1,3,5,7])\n",
    "v = np.array([2,4,6,8])\n",
    "```\n",
    "\n",
    "Do this in the following ways:\n",
    "\n",
    "   * Using the function outer in numpy\n",
    "   * Using a nested for loop or list comprehension\n",
    "   * Using numpy broadcasting operatoins\n"
   ]
  },
  {
   "cell_type": "code",
   "execution_count": 63,
   "metadata": {},
   "outputs": [
    {
     "name": "stdout",
     "output_type": "stream",
     "text": [
      "function outer : \n",
      " [[ 2  4  6  8]\n",
      " [ 6 12 18 24]\n",
      " [10 20 30 40]\n",
      " [14 28 42 56]]\n",
      "nested loop:\n",
      " [[ 2.  4.  6.  8.]\n",
      " [ 6. 12. 18. 24.]\n",
      " [10. 20. 30. 40.]\n",
      " [14. 28. 42. 56.]] \n",
      "\n",
      "Broadcast: \n",
      " [[ 2  4  6  8]\n",
      " [ 6 12 18 24]\n",
      " [10 20 30 40]\n",
      " [14 28 42 56]]\n"
     ]
    }
   ],
   "source": [
    "u = np.array([1,3,5,7])\n",
    "v = np.array([2,4,6,8])\n",
    "\n",
    "\n",
    "function = np.outer(u, v) \n",
    "print(\"function outer : \\n\", function)\n",
    "\n",
    "loop = np.zeros((4,4))\n",
    "\n",
    "for i in range (len(u)):\n",
    "    for j in range (len(v)):\n",
    "        loop [i,j] = v[j] * u[i];\n",
    "         \n",
    "print(\"nested loop:\\n\", loop,\"\\n\")\n",
    "\n",
    "uu = np.tile(u,(4,1)).T\n",
    "vv = np.tile (v,(4,1))\n",
    "print(\"Broadcast: \\n\", vv*uu)\n"
   ]
  },
  {
   "cell_type": "markdown",
   "metadata": {},
   "source": [
    "3\\. Create a 10 by 6 matrix of random uniform numbers. Set all rows with any entry less than 0.1 to be zero\n",
    "\n",
    "Hint: Use the following numpy functions - np.random.random, np.any as well as Boolean indexing and the axis argument."
   ]
  },
  {
   "cell_type": "code",
   "execution_count": 64,
   "metadata": {},
   "outputs": [],
   "source": [
    "import numpy.random as npr\n",
    "npr.seed(123)"
   ]
  },
  {
   "cell_type": "code",
   "execution_count": 136,
   "metadata": {
    "scrolled": true
   },
   "outputs": [
    {
     "name": "stdout",
     "output_type": "stream",
     "text": [
      "[[0.28896827 0.35755223 0.11785352 0.45539322 0.58757602 0.27954248]\n",
      " [0.45367214 0.47203866 0.65959952 0.58352812 0.94348559 0.52606118]\n",
      " [0.60734759 0.53060054 0.34510076 0.16219878 0.01638529 0.2220575 ]\n",
      " [0.55830376 0.02745846 0.31786648 0.04099365 0.68656828 0.51345888]\n",
      " [0.89230959 0.62961579 0.70398499 0.88222722 0.89662018 0.36871756]\n",
      " [0.5848425  0.40354595 0.56639631 0.9411954  0.99316182 0.47172191]\n",
      " [0.06455121 0.95994114 0.11849756 0.02439238 0.69862438 0.84907767]\n",
      " [0.61765932 0.59367352 0.32859702 0.62571541 0.82466147 0.3268456 ]\n",
      " [0.46081915 0.64221504 0.78162287 0.63762076 0.15721308 0.52982282]\n",
      " [0.43537743 0.64553574 0.64598803 0.09741688 0.13865679 0.08751658]]\n",
      "1\n",
      "[[0.28896827 0.35755223 0.11785352 0.45539322 0.58757602 0.27954248]\n",
      " [0.45367214 0.47203866 0.65959952 0.58352812 0.94348559 0.52606118]\n",
      " [0.         0.         0.         0.         0.         0.        ]\n",
      " [0.         0.         0.         0.         0.         0.        ]\n",
      " [0.89230959 0.62961579 0.70398499 0.88222722 0.89662018 0.36871756]\n",
      " [0.5848425  0.40354595 0.56639631 0.9411954  0.99316182 0.47172191]\n",
      " [0.         0.         0.         0.         0.         0.        ]\n",
      " [0.61765932 0.59367352 0.32859702 0.62571541 0.82466147 0.3268456 ]\n",
      " [0.46081915 0.64221504 0.78162287 0.63762076 0.15721308 0.52982282]\n",
      " [0.         0.         0.         0.         0.         0.        ]]\n"
     ]
    }
   ],
   "source": [
    "a = npr.rand(10,6)\n",
    "print (a)\n",
    "\n",
    "c = a.copy ()\n",
    "k = 0\n",
    "\n",
    "for i in range (0,10):\n",
    "        if np.any(a [i,:] <0.1) == True:\n",
    "            k  = 1\n",
    "            c [i,:] = 0\n",
    "print (k)\n",
    "print (c)"
   ]
  },
  {
   "cell_type": "markdown",
   "metadata": {},
   "source": [
    "4\\. Use np.linspace to create an array of 100 numbers between 0 and 2π (includsive).\n",
    "\n",
    "  * Extract every 10th element using slice notation\n",
    "  * Reverse the array using slice notation\n",
    "  * Extract elements where the absolute difference between the sine and cosine functions evaluated at that element is less than 0.1\n",
    "  * Make a plot showing the sin and cos functions and indicate where they are close"
   ]
  },
  {
   "cell_type": "code",
   "execution_count": 211,
   "metadata": {},
   "outputs": [
    {
     "name": "stdout",
     "output_type": "stream",
     "text": [
      "[0.72986496 0.76159822 0.79333148 0.82506474]\n"
     ]
    }
   ],
   "source": [
    "pi = np. linspace (0 , np.pi, num = 100 )\n",
    "\n",
    "pip = pi [range(1,100,10)]\n",
    "# print (pip)\n",
    "\n",
    "pire = pi[::-1]\n",
    "# print(pire)\n",
    "\n",
    "mask = (np.absolute(np.sin(pi)-np.cos(pi))<=0.1)\n",
    "# print (mask)\n",
    "\n",
    "fipi = pi[mask]\n",
    "print (fipi)\n",
    "\n"
   ]
  },
  {
   "cell_type": "code",
   "execution_count": 210,
   "metadata": {},
   "outputs": [
    {
     "data": {
      "image/png": "[encoded data removed]",
      "text/plain": [
       "<Figure size 432x288 with 1 Axes>"
      ]
     },
     "metadata": {
      "needs_background": "light"
     },
     "output_type": "display_data"
    }
   ],
   "source": [
    "y = np.sin(pi)\n",
    "yy = np.cos(pi)\n",
    "zz = np.sin(fipi)\n",
    "aa = np.cos(fipi)\n",
    "plt.plot(pi,y,pi,yy,fipi,zz,fipi,aa,linewidth = 10)\n",
    "plt.show()"
   ]
  },
  {
   "cell_type": "markdown",
   "metadata": {},
   "source": [
    "5\\. Create a matrix that shows the 10 by 10 multiplication table.\n",
    "\n",
    " * Find the trace of the matrix\n",
    " * Extract the anto-diagonal (this should be ```array([10, 18, 24, 28, 30, 30, 28, 24, 18, 10])```)\n",
    " * Extract the diagnoal offset by 1 upwards (this should be ```array([ 2,  6, 12, 20, 30, 42, 56, 72, 90])```)"
   ]
  },
  {
   "cell_type": "code",
   "execution_count": 270,
   "metadata": {},
   "outputs": [
    {
     "name": "stdout",
     "output_type": "stream",
     "text": [
      "the matrik : \n",
      " [[  1   2   3   4   5   6   7   8   9  10]\n",
      " [  2   4   6   8  10  12  14  16  18  20]\n",
      " [  3   6   9  12  15  18  21  24  27  30]\n",
      " [  4   8  12  16  20  24  28  32  36  40]\n",
      " [  5  10  15  20  25  30  35  40  45  50]\n",
      " [  6  12  18  24  30  36  42  48  54  60]\n",
      " [  7  14  21  28  35  42  49  56  63  70]\n",
      " [  8  16  24  32  40  48  56  64  72  80]\n",
      " [  9  18  27  36  45  54  63  72  81  90]\n",
      " [ 10  20  30  40  50  60  70  80  90 100]]\n",
      "[[ 0  2  0  0  0  0  0  0  0  0]\n",
      " [ 0  0  6  0  0  0  0  0  0  0]\n",
      " [ 0  0  0 12  0  0  0  0  0  0]\n",
      " [ 0  0  0  0 20  0  0  0  0  0]\n",
      " [ 0  0  0  0  0 30  0  0  0  0]\n",
      " [ 0  0  0  0  0  0 42  0  0  0]\n",
      " [ 0  0  0  0  0  0  0 56  0  0]\n",
      " [ 0  0  0  0  0  0  0  0 72  0]\n",
      " [ 0  0  0  0  0  0  0  0  0 90]\n",
      " [ 0  0  0  0  0  0  0  0  0  0]]\n",
      "[2, 6, 12, 20, 30, 42, 56, 72, 90, 0]\n"
     ]
    }
   ],
   "source": [
    "u = np.array([range(1,11)])\n",
    "v = np.array([range(1,11)])\n",
    "\n",
    "tenten = np.outer(u, v) \n",
    "print(\"the matrik : \\n\", tenten)\n",
    "\n",
    "# bawah = np.zeros((10,10))\n",
    "kumau = [0,0,0,0,0,0,0,0,0,0]\n",
    "atas  = np.tril(tenten,1) # play with the last parameter (sign and value)\n",
    "bawah = np.triu(atas,1) \n",
    "print (bawah)\n",
    "\n",
    "\n",
    "for i in range (len(tenten)):\n",
    "    for j in range (len(tenten)):\n",
    "        if bawah[i,j]!= 0:\n",
    "            kumau[i] = bawah [i,j]\n",
    "            \n",
    "print (kumau)"
   ]
  },
  {
   "cell_type": "markdown",
   "metadata": {},
   "source": [
    "6\\. Use broadcasting to create a grid of distances\n",
    "\n",
    "Route 66 crosses the following cities in the US: Chicago, Springfield, Saint-Louis, Tulsa, Oklahoma City, Amarillo, Santa Fe, Albuquerque, Flagstaff, Los Angeles\n",
    "The corresponding positions in miles are: 0, 198, 303, 736, 871, 1175, 1475, 1544, 1913, 2448\n",
    "\n",
    "  * Construct a 2D grid of distances among each city along Route 66\n",
    "  * Convert that in km (those savages...)"
   ]
  },
  {
   "cell_type": "code",
   "execution_count": 287,
   "metadata": {},
   "outputs": [
    {
     "name": "stdout",
     "output_type": "stream",
     "text": [
      "2D grid savage mode: \n",
      " [[   0  198  303  736  871 1175 1475 1544 1913 2448]\n",
      " [ 198    0  105  538  673  977 1277 1346 1715 2250]\n",
      " [ 303  105    0  433  568  872 1172 1241 1610 2145]\n",
      " [ 736  538  433    0  135  439  739  808 1177 1712]\n",
      " [ 871  673  568  135    0  304  604  673 1042 1577]\n",
      " [1175  977  872  439  304    0  300  369  738 1273]\n",
      " [1475 1277 1172  739  604  300    0   69  438  973]\n",
      " [1544 1346 1241  808  673  369   69    0  369  904]\n",
      " [1913 1715 1610 1177 1042  738  438  369    0  535]\n",
      " [2448 2250 2145 1712 1577 1273  973  904  535    0]]\n",
      "2D grid civilized vers: \n",
      " [[   0.    319.35  488.71 1187.1  1404.84 1895.16 2379.03 2490.32 3085.48\n",
      "  3948.39]\n",
      " [ 319.35    0.    169.35  867.74 1085.48 1575.81 2059.68 2170.97 2766.13\n",
      "  3629.03]\n",
      " [ 488.71  169.35    0.    698.39  916.13 1406.45 1890.32 2001.61 2596.77\n",
      "  3459.68]\n",
      " [1187.1   867.74  698.39    0.    217.74  708.06 1191.94 1303.23 1898.39\n",
      "  2761.29]\n",
      " [1404.84 1085.48  916.13  217.74    0.    490.32  974.19 1085.48 1680.65\n",
      "  2543.55]\n",
      " [1895.16 1575.81 1406.45  708.06  490.32    0.    483.87  595.16 1190.32\n",
      "  2053.23]\n",
      " [2379.03 2059.68 1890.32 1191.94  974.19  483.87    0.    111.29  706.45\n",
      "  1569.35]\n",
      " [2490.32 2170.97 2001.61 1303.23 1085.48  595.16  111.29    0.    595.16\n",
      "  1458.06]\n",
      " [3085.48 2766.13 2596.77 1898.39 1680.65 1190.32  706.45  595.16    0.\n",
      "   862.9 ]\n",
      " [3948.39 3629.03 3459.68 2761.29 2543.55 2053.23 1569.35 1458.06  862.9\n",
      "     0.  ]]\n"
     ]
    }
   ],
   "source": [
    "rou = np.array([0, 198, 303, 736, 871 , 1175, 1475, 1544, 1913, 2448])\n",
    "te = np.array([0, 198, 303, 736, 871 , 1175, 1475, 1544, 1913, 2448])\n",
    "\n",
    "koef = 0.62\n",
    "uu = np.tile(rou,(10,1)).T\n",
    "vv = np.tile (te,(10,1))\n",
    "print(\"2D grid savage mode: \\n\", np.absolute(uu-vv))\n",
    "\n",
    "print (\"2D grid civilized vers: \\n\", np.round((np.absolute(uu-vv)/koef),2))"
   ]
  },
  {
   "cell_type": "markdown",
   "metadata": {},
   "source": [
    "7\\. Prime numbers sieve: compute the prime numbers in the 0-N (N=99 to start with) range with a sieve (mask).\n",
    "  * Constract a shape (100,) boolean array, the mask\n",
    "  * Identify the multiples of each number starting from 2 and set accordingly the corresponding mask element\n",
    "  * Apply the mask to obtain an array of ordered prime numbers\n",
    "  * Check the performances (timeit); how does it scale with N?\n",
    "  * Implement the optimization suggested in the [sieve of Eratosthenes](https://en.wikipedia.org/wiki/Sieve_of_Eratosthenes)"
   ]
  },
  {
   "cell_type": "code",
   "execution_count": null,
   "metadata": {},
   "outputs": [],
   "source": []
  },
  {
   "cell_type": "markdown",
   "metadata": {},
   "source": [
    "**N.B. the following exercises are meant to be solved only if you are familiar with the numpy random library. If not you can skip them (postponed for one of the next exercise sessions)**\n"
   ]
  },
  {
   "cell_type": "markdown",
   "metadata": {},
   "source": [
    "8\\. Diffusion using random walk\n",
    "\n",
    "Consider a simple random walk process: at each step in time, a walker jumps right or left (+1 or -1) with equal probability. The goal is to find the typical distance from the origin of a random walker after a given amount of time. \n",
    "To do that, let's simulate many walkers and create a 2D array with each walker as a raw and the actual time evolution as columns\n",
    "\n",
    "  * Take 1000 walkers and let them walk for 200 steps\n",
    "  * Use randint to create a 2D array of size walkers x steps with values -1 or 1\n",
    "  * Build the actual walking distances for each walker (i.e. another 2D array \"summing on each raw\")\n",
    "  * Take the square of that 2D array (elementwise)\n",
    "  * Compute the mean of the squared distances at each step (i.e. the mean along the columns)\n",
    "  * Plot the average distances (sqrt(distance\\*\\*2)) as a function of time (step)\n",
    "  \n",
    "Did you get what you expected?"
   ]
  },
  {
   "cell_type": "markdown",
   "metadata": {},
   "source": [
    "9\\. Analyze a data file \n",
    "  * Download the population of hares, lynxes and carrots at the beginning of the last century.\n",
    "    ```python\n",
    "    ! wget https://www.dropbox.com/s/3vigxoqayo389uc/populations.txt\n",
    "    ```\n",
    "\n",
    "  * Check the content by looking within the file\n",
    "  * Load the data (use an appropriate numpy method) into a 2D array\n",
    "  * Create arrays out of the columns, the arrays being (in order): *year*, *hares*, *lynxes*, *carrots* \n",
    "  * Plot the 3 populations over the years\n",
    "  * Compute the main statistical properties of the dataset (mean, std, correlations, etc.)\n",
    "  * Which species has the highest population each year?\n",
    "\n",
    "Do you feel there is some evident correlation here? [Studies](https://www.enr.gov.nt.ca/en/services/lynx/lynx-snowshoe-hare-cycle) tend to believe so."
   ]
  }
 ],
 "metadata": {
  "kernelspec": {
   "display_name": "Python 3 (ipykernel)",
   "language": "python",
   "name": "python3"
  },
  "language_info": {
   "codemirror_mode": {
    "name": "ipython",
    "version": 3
   },
   "file_extension": ".py",
   "mimetype": "text/x-python",
   "name": "python",
   "nbconvert_exporter": "python",
   "pygments_lexer": "ipython3",
   "version": "3.9.12"
  }
 },
 "nbformat": 4,
 "nbformat_minor": 2
}
