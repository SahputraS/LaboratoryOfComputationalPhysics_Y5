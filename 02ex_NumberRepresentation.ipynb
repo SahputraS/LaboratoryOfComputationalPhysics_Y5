{
  "cells": [
    {
      "cell_type": "markdown",
      "metadata": {
        "id": "euPyTW-6ZVli"
      },
      "source": [
        "1\\. Write a function that converts number representation, bin<->dec<->hex. (Clearly using the corresponding python built-in functions is not fair..)"
      ]
    },
    {
      "cell_type": "code",
      "source": [
        "b_num = list(input(\"Input a binary number: \"))\n",
        "value = 0\n",
        "\n",
        "for i in range(len(b_num)):\n",
        "\tdigit = b_num.pop()\n",
        "\tif digit == '1':\n",
        "\t\tvalue = value + pow(2, i)\n",
        "print(\"The decimal value of the number is\", value)\n"
      ],
      "metadata": {
        "id": "zzY37FMDm_MS",
        "outputId": "bd1553fe-0e86-4711-a8b4-6cbd12990cc3",
        "colab": {
          "base_uri": "https://localhost:8080/"
        }
      },
      "execution_count": 19,
      "outputs": [
        {
          "output_type": "stream",
          "name": "stdout",
          "text": [
            "Input a binary number: 2222\n",
            "The decimal value of the number is 0\n"
          ]
        }
      ]
    },
    {
      "cell_type": "code",
      "source": [
        "def dectobin(decimal):\n",
        "    if(decimal > 0):\n",
        "        dectobin((int)(decimal/2))\n",
        "        print(decimal%2, end='')\n",
        "        \n",
        "decimal = int(input(\"Enter a decimal number \\n\"))\n",
        "dectobin(decimal)"
      ],
      "metadata": {
        "id": "YcC8EIoLuT9K",
        "outputId": "65a55e5b-e167-4590-9fba-65cd7bfa1f5d",
        "colab": {
          "base_uri": "https://localhost:8080/"
        }
      },
      "execution_count": 21,
      "outputs": [
        {
          "output_type": "stream",
          "name": "stdout",
          "text": [
            "Enter a decimal number \n",
            "60\n",
            "111100"
          ]
        }
      ]
    },
    {
      "cell_type": "code",
      "source": [
        "conversion_table = ['0', '1', '2', '3', '4', '5', '6', '7', '8', '9', 'A' , 'B', 'C', 'D', 'E', 'F']\n",
        "\n",
        "decimal = int(input(\"Enter a number: \"))\n",
        "hexadecimal = ''\n",
        "\n",
        "while(decimal>0):\n",
        "    remainder = decimal%16\n",
        "    hexadecimal = conversion_table[remainder]+ hexadecimal\n",
        "    decimal = decimal//16\n",
        "    \n",
        "print(\"Hexadecimal: \",hexadecimal)"
      ],
      "metadata": {
        "id": "mB9h2_78wbKx",
        "outputId": "32ca2a36-d339-4251-8687-d0a42f90323d",
        "colab": {
          "base_uri": "https://localhost:8080/"
        }
      },
      "execution_count": 24,
      "outputs": [
        {
          "output_type": "stream",
          "name": "stdout",
          "text": [
            "Enter a number: 205\n",
            "Hexadecimal:  CD\n"
          ]
        }
      ]
    },
    {
      "cell_type": "markdown",
      "metadata": {
        "id": "mKNpNi_EZVlo"
      },
      "source": [
        "2\\. Write a function that converts a 32 bit word into a single precision floating point (i.e. interprets the various bits as sign, mantissa and exponent)"
      ]
    },
    {
      "cell_type": "code",
      "source": [
        "# Python program to convert\n",
        "# IEEE 754 floating point representation\n",
        "# into real value\n",
        "\n",
        "# Function to convert Binary\n",
        "# of Mantissa to float value.\n",
        "def convertToInt(mantissa_str):\n",
        "\n",
        "\t# variable to make a count\n",
        "\t# of negative power of 2.\n",
        "\tpower_count = -1\n",
        "\n",
        "\t# variable to store\n",
        "\t# float value of mantissa.\n",
        "\tmantissa_int = 0\n",
        "\n",
        "\t# Iterations through binary\n",
        "\t# Number. Standard form of\n",
        "\t# Mantissa is 1.M so we have\n",
        "\t# 0.M therefore we are taking\n",
        "\t# negative powers on 2 for\n",
        "\t# conversion.\n",
        "\tfor i in mantissa_str:\n",
        "\n",
        "\t\t# Adding converted value of\n",
        "\t\t# Binary bits in every\n",
        "\t\t# iteration to float mantissa.\n",
        "\t\tmantissa_int += (int(i) * pow(2, power_count))\n",
        "\n",
        "\t\t# count will decrease by 1\n",
        "\t\t# as we move toward right.\n",
        "\t\tpower_count -= 1\n",
        "\t\t\n",
        "\t# returning mantissa in 1.M form.\n",
        "\treturn (mantissa_int + 1)\n",
        "\n",
        "if __name__ == \"__main__\":\n",
        "\t# Floating Point Representation\n",
        "\t# to be converted into real\n",
        "\t# value.\n",
        "\tieee_32 = '1|10000000|00100000000000000000000'\n",
        "\n",
        "\t# First bit will be sign bit.\n",
        "\tsign_bit = int(ieee_32[0])\n",
        "\n",
        "\t# Next 8 bits will be\n",
        "\t# Exponent Bits in Biased\n",
        "\t# form.\n",
        "\texponent_bias = int(ieee_32[2 : 10], 2)\n",
        "\n",
        "\t# In 32 Bit format bias\n",
        "\t# value is 127 so to have\n",
        "\t# unbiased exponent\n",
        "\t# subtract 127.\n",
        "\texponent_unbias = exponent_bias - 127\n",
        "\n",
        "\t# Next 23 Bits will be\n",
        "\t# Mantissa (1.M format)\n",
        "\tmantissa_str = ieee_32[11 : ]\n",
        "\n",
        "\t# Function call to convert\n",
        "\t# 23 binary bits into\n",
        "\t# 1.M real no. form\n",
        "\tmantissa_int = convertToInt(mantissa_str)\n",
        "\n",
        "\t# The final real no. obtained\n",
        "\t# by sign bit, mantissa and\n",
        "\t# Exponent.\n",
        "\treal_no = pow(-1, sign_bit) * mantissa_int * pow(2, exponent_unbias)\n",
        "\n",
        "\t# Printing the obtained\n",
        "\t# Real value of floating\n",
        "\t# Point Representation.\n",
        "\tprint(\"The float value of the given IEEE-754 representation is :\",real_no)\n"
      ],
      "metadata": {
        "id": "pUqqvKL-waYF",
        "outputId": "f3558706-5e24-4a39-de57-0ff330ede844",
        "colab": {
          "base_uri": "https://localhost:8080/"
        }
      },
      "execution_count": 30,
      "outputs": [
        {
          "output_type": "stream",
          "name": "stdout",
          "text": [
            "The float value of the given IEEE-754 representation is : -2.25\n"
          ]
        }
      ]
    },
    {
      "cell_type": "markdown",
      "source": [],
      "metadata": {
        "id": "PdWCasWep860"
      }
    },
    {
      "cell_type": "markdown",
      "metadata": {
        "id": "v9fR8yw7ZVlp"
      },
      "source": [
        "3\\. Write a program to determine the underflow and overflow limits (within a factor of 2) for python on your computer. \n",
        "\n",
        "**Tips**: define two variables inizialized to 1 and halve/double them enough time to exceed the under/over-flow limits  "
      ]
    },
    {
      "cell_type": "markdown",
      "metadata": {
        "id": "tS7mM2mSZVlq"
      },
      "source": [
        "4\\. Write a program to determine the machine precision\n",
        "\n",
        "**Tips**: define a new variable by adding a smaller and smaller value (proceeding similarly to prob. 2) to an original variable and check the point where the two are the same "
      ]
    },
    {
      "cell_type": "markdown",
      "metadata": {
        "id": "VxQ591ifZVlr"
      },
      "source": [
        "5\\. Write a function that takes in input three parameters $a$, $b$ and $c$ and prints out the two solutions to the quadratic equation $ax^2+bx+c=0$ using the standard formula:\n",
        "$$\n",
        "x=\\frac{-b\\pm\\sqrt{b^2-4ac}}{2a}\n",
        "$$\n",
        "\n",
        "(a) use the program to compute the solution for $a=0.001$, $b=1000$ and $c=0.001$\n",
        "\n",
        "(b) re-express the standard solution formula by multiplying top and bottom by $-b\\mp\\sqrt{b^2-4ac}$ and again find the solution for $a=0.001$, $b=1000$ and $c=0.001$. How does it compare with what previously obtained? Why?\n",
        "\n",
        "(c) write a function that compute the roots of a quadratic equation accurately in all cases"
      ]
    },
    {
      "cell_type": "markdown",
      "metadata": {
        "id": "c1oKyxi4ZVls"
      },
      "source": [
        "6\\. Write a program that implements the function $f(x)=x(x−1)$\n",
        "\n",
        "(a) Calculate the derivative of the function at the point $x = 1$ using the derivative definition:\n",
        "\n",
        "$$\n",
        "\\frac{{\\rm d}f}{{\\rm d}x} = \\lim_{\\delta\\to0} \\frac{f(x+\\delta)-f(x)}{\\delta}\n",
        "$$\n",
        "\n",
        "with $\\delta = 10^{−2}$. Calculate the true value of the same derivative analytically and compare with the answer your program gives. The two will not agree perfectly. Why not?\n",
        "\n",
        "(b) Repeat the calculation for $\\delta = 10^{−4}, 10^{−6}, 10^{−8}, 10^{−10}, 10^{−12}$ and $10^{−14}$. How does the accuracy scales with $\\delta$?"
      ]
    },
    {
      "cell_type": "markdown",
      "metadata": {
        "id": "CqJMjp4SZVlt"
      },
      "source": [
        "7\\. Consider the integral of the semicircle of radius 1:\n",
        "$$\n",
        "I=\\int_{-1}^{1} \\sqrt(1-x^2) {\\rm d}x\n",
        "$$\n",
        "which it's known to be $I=\\frac{\\pi}{2}=1.57079632679...$.\n",
        "Alternatively we can use the Riemann definition of the integral:\n",
        "$$\n",
        "I=\\lim_{N\\to\\infty} \\sum_{k=1}^{N} h y_k \n",
        "$$\n",
        "\n",
        "with $h=2/N$ the width of each of the $N$ slices the domain is divided into and where\n",
        "$y_k$ is the value of the function at the $k-$th slice.\n",
        "\n",
        "(a) Write a programe to compute the integral with $N=100$. How does the result compares to the true value?\n",
        "\n",
        "(b) How much can $N$ be increased if the computation needs to be run in less than a second? What is the gain in running it for 1 minute? \n"
      ]
    },
    {
      "cell_type": "code",
      "execution_count": null,
      "metadata": {
        "id": "FfAKQ3gOZVlv"
      },
      "outputs": [],
      "source": []
    }
  ],
  "metadata": {
    "kernelspec": {
      "display_name": "Python 3 (ipykernel)",
      "language": "python",
      "name": "python3"
    },
    "language_info": {
      "codemirror_mode": {
        "name": "ipython",
        "version": 3
      },
      "file_extension": ".py",
      "mimetype": "text/x-python",
      "name": "python",
      "nbconvert_exporter": "python",
      "pygments_lexer": "ipython3",
      "version": "3.9.7"
    },
    "colab": {
      "provenance": []
    }
  },
  "nbformat": 4,
  "nbformat_minor": 0
}